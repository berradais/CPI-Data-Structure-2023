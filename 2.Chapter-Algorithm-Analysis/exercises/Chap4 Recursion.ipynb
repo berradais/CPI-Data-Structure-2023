{
 "cells": [
  {
   "cell_type": "markdown",
   "metadata": {},
   "source": [
    "### Chap4 Recursion"
   ]
  },
  {
   "cell_type": "code",
   "execution_count": 1,
   "metadata": {
    "ExecuteTime": {
     "end_time": "2019-07-01T15:41:50.212552Z",
     "start_time": "2019-07-01T15:41:50.207201Z"
    }
   },
   "outputs": [],
   "source": [
    "from typing import List, TypeVar, Tuple, Any\n",
    "from functools import lru_cache\n",
    "Num = TypeVar('Num', int, float)"
   ]
  },
  {
   "cell_type": "markdown",
   "metadata": {},
   "source": [
    "#### Reinforcement"
   ]
  },
  {
   "cell_type": "markdown",
   "metadata": {},
   "source": [
    "##### R-4.1 \n",
    "Describe a recursive algorithm for finding the maximum element in a sequence, S, of n elements. What is your running time and space usage?"
   ]
  },
  {
   "cell_type": "code",
   "execution_count": 4,
   "metadata": {
    "ExecuteTime": {
     "end_time": "2019-07-01T09:21:28.921761Z",
     "start_time": "2019-07-01T09:21:28.903320Z"
    }
   },
   "outputs": [
    {
     "data": {
      "text/plain": [
       "10"
      ]
     },
     "execution_count": 4,
     "metadata": {},
     "output_type": "execute_result"
    }
   ],
   "source": [
    "max_recursion([1, 3, 2, 6, 10], 5)"
   ]
  },
  {
   "cell_type": "markdown",
   "metadata": {},
   "source": [
    "##### R-4.6\n",
    "Describe a recursive function for computing the n th Harmonic number, $H_n = \\sum_{i=1}^{n} \\frac{1}{n}$."
   ]
  },
  {
   "cell_type": "code",
   "execution_count": 5,
   "metadata": {
    "ExecuteTime": {
     "end_time": "2019-07-01T09:25:45.166709Z",
     "start_time": "2019-07-01T09:25:45.156759Z"
    }
   },
   "outputs": [],
   "source": [
    "def harmonic_recursion_1(n: int) -> Num:\n",
    "    if n == 1:\n",
    "        return n\n",
    "    return 1/n + harmonic_recursion_1(n-1)\n",
    "\n",
    "# python doesn't support tail-call optimization\n",
    "def harmonic_recursion_2(n: int, acc = 0) -> Num:\n",
    "    if n == 0:\n",
    "        return acc\n",
    "    return harmonic_recursion_2(n-1, acc + 1/n)\n",
    "\n",
    "@lru_cache(maxsize=None)\n",
    "def harmonic_recursion_3(n: int) -> Num:\n",
    "    if n == 1:\n",
    "        return n\n",
    "    return 1/n + harmonic_recursion_1(n-1)"
   ]
  },
  {
   "cell_type": "markdown",
   "metadata": {},
   "source": [
    "The first is the normal version; the second uses tail recursion (but Python does not optimize tail recursion); the third uses the built-in `lru_cache`. Benchmerking results are as follows: \n",
    "```\n",
    "In [49]: %timeit harmonic_recursion_1(50)                                                                                                                      \n",
    "9.01 µs ± 104 ns per loop (mean ± std. dev. of 7 runs, 100000 loops each)\n",
    "\n",
    "In [50]: %timeit harmonic_recursion_2(50)                                                                                                                      \n",
    "11.3 µs ± 62.6 ns per loop (mean ± std. dev. of 7 runs, 100000 loops each)\n",
    "\n",
    "In [51]: %timeit harmonic_recursion_3(50)                                                                                                                      \n",
    "111 ns ± 0.657 ns per loop (mean ± std. dev. of 7 runs, 10000000 loops each)\n",
    "```\n",
    "\n",
    "The first two are not very different, and it is *not* clear why the third is faster. Because according to the document, the cache here should only be used as a reference table when applying the DP algorithm, but the different parameter values here are only called once, so there should be no optimization... "
   ]
  },
  {
   "cell_type": "markdown",
   "metadata": {},
   "source": [
    "##### R-4.7 \n",
    "Describe a recursive function for converting a string of digits into the in-\n",
    "teger it represents. For example, '13531' represents the integer 13, 531."
   ]
  },
  {
   "cell_type": "code",
   "execution_count": 8,
   "metadata": {
    "ExecuteTime": {
     "end_time": "2019-07-01T09:30:42.002551Z",
     "start_time": "2019-07-01T09:30:41.983427Z"
    }
   },
   "outputs": [
    {
     "data": {
      "text/plain": [
       "13531"
      ]
     },
     "execution_count": 8,
     "metadata": {},
     "output_type": "execute_result"
    }
   ],
   "source": [
    "str_to_int('13531', 5)"
   ]
  },
  {
   "cell_type": "markdown",
   "metadata": {},
   "source": [
    "##### R-4.8 \n",
    "Isabel has an interesting way of summing up the values in a sequence A of\n",
    "n integers, where n is a power of two. She creates a new sequence B of half\n",
    "the size of A and sets B[i] = A[2i] + A[2i + 1], for i = 0, 1, . . . , (n/2) − 1. If\n",
    "B has size 1, then she outputs B[0]. Otherwise, she replaces A with B, and\n",
    "repeats the process. What is the running time of her algorithm?"
   ]
  },
  {
   "cell_type": "markdown",
   "metadata": {},
   "source": [
    "#### Creativity"
   ]
  },
  {
   "cell_type": "markdown",
   "metadata": {},
   "source": [
    "##### C-4.9\n",
    "Write a short recursive Python function that finds the minimum and max-\n",
    "imum values in a sequence without using any loops."
   ]
  },
  {
   "cell_type": "code",
   "execution_count": 3,
   "metadata": {
    "ExecuteTime": {
     "end_time": "2019-07-01T15:41:53.773237Z",
     "start_time": "2019-07-01T15:41:53.754415Z"
    }
   },
   "outputs": [],
   "source": [
    "def my_min(n1: Num, n2: Num) -> Num:\n",
    "    if n1 >= n2:\n",
    "        return n2\n",
    "    else:\n",
    "        return n1\n",
    "\n",
    "def my_max(n1: Num, n2: Num) -> Num:\n",
    "    if n1 >= n2:\n",
    "        return n1\n",
    "    else:\n",
    "        return n2\n",
    "\n",
    "def min_max_num(nums: List[Num], n: int) -> Tuple[Num, Num]:\n",
    "    if n == 1:\n",
    "        return (nums[0], nums[0])\n",
    "    return (\n",
    "            my_min(nums[n-1], min_max_num(nums, n-1)[0]),\n",
    "            my_max(nums[n-1], min_max_num(nums, n-1)[1]),\n",
    "            )"
   ]
  },
  {
   "cell_type": "markdown",
   "metadata": {
    "ExecuteTime": {
     "end_time": "2019-07-01T15:43:16.969961Z",
     "start_time": "2019-07-01T15:43:16.960688Z"
    }
   },
   "source": [
    "Note that here, by default, we do not use Python's built-in function for finding the most value, otherwise it would be too boring. >.<"
   ]
  },
  {
   "cell_type": "code",
   "execution_count": 4,
   "metadata": {
    "ExecuteTime": {
     "end_time": "2019-07-01T15:42:21.379422Z",
     "start_time": "2019-07-01T15:42:21.359888Z"
    }
   },
   "outputs": [
    {
     "data": {
      "text/plain": [
       "(1, 7)"
      ]
     },
     "execution_count": 4,
     "metadata": {},
     "output_type": "execute_result"
    }
   ],
   "source": [
    "min_max_num([1, 3, 2, 4, 7], 5)"
   ]
  },
  {
   "cell_type": "markdown",
   "metadata": {},
   "source": [
    "##### C-4.10 \n",
    "Describe a recursive algorithm to compute the integer part of the base-two\n",
    "logarithm of n using only addition and integer division."
   ]
  },
  {
   "cell_type": "code",
   "execution_count": 7,
   "metadata": {
    "ExecuteTime": {
     "end_time": "2019-07-01T15:44:19.550008Z",
     "start_time": "2019-07-01T15:44:19.542937Z"
    }
   },
   "outputs": [
    {
     "data": {
      "text/plain": [
       "(4, 3)"
      ]
     },
     "execution_count": 7,
     "metadata": {},
     "output_type": "execute_result"
    }
   ],
   "source": [
    "get_log_int(16), get_log_int(15)"
   ]
  },
  {
   "cell_type": "markdown",
   "metadata": {},
   "source": [
    "##### C-4.11\n",
    "Describe an efficient recursive function for solving the element unique-\n",
    "ness problem, which runs in time that is at most $O(n^2)$ in the worst case\n",
    "without using sorting."
   ]
  },
  {
   "cell_type": "code",
   "execution_count": 9,
   "metadata": {
    "ExecuteTime": {
     "end_time": "2019-07-01T15:45:20.629982Z",
     "start_time": "2019-07-01T15:45:20.616485Z"
    }
   },
   "outputs": [
    {
     "data": {
      "text/plain": [
       "(True, False)"
      ]
     },
     "execution_count": 9,
     "metadata": {},
     "output_type": "execute_result"
    }
   ],
   "source": [
    "is_unique([1, 2, 3, 4], 4), is_unique([1, 2, 3, 3, 4], 5)"
   ]
  },
  {
   "cell_type": "markdown",
   "metadata": {},
   "source": [
    "##### C-4.12\n",
    "Give a recursive algorithm to compute the product of two positive integers,\n",
    "m and n, using only addition and subtraction."
   ]
  },
  {
   "cell_type": "code",
   "execution_count": 11,
   "metadata": {
    "ExecuteTime": {
     "end_time": "2019-07-01T15:47:50.228521Z",
     "start_time": "2019-07-01T15:47:50.222404Z"
    }
   },
   "outputs": [
    {
     "data": {
      "text/plain": [
       "12"
      ]
     },
     "execution_count": 11,
     "metadata": {},
     "output_type": "execute_result"
    }
   ],
   "source": [
    "multiply(3, 4)"
   ]
  },
  {
   "cell_type": "markdown",
   "metadata": {},
   "source": [
    "##### C-4.15\n",
    "Write a recursive function that will output all the subsets of a set of n\n",
    "elements (without repeating any subsets)."
   ]
  },
  {
   "cell_type": "code",
   "execution_count": 12,
   "metadata": {
    "ExecuteTime": {
     "end_time": "2019-07-01T15:48:33.733675Z",
     "start_time": "2019-07-01T15:48:33.716985Z"
    }
   },
   "outputs": [],
   "source": [
    "def get_subsets(s: List[Any], n: int) -> List[Any]:\n",
    "    if n == 0:\n",
    "        return [[]]\n",
    "    return [[s[n-1]] + i for i in get_subsets(s, n-1)] + get_subsets(s, n-1)"
   ]
  },
  {
   "cell_type": "code",
   "execution_count": 15,
   "metadata": {
    "ExecuteTime": {
     "end_time": "2019-07-01T15:49:03.013223Z",
     "start_time": "2019-07-01T15:49:02.999075Z"
    }
   },
   "outputs": [
    {
     "data": {
      "text/plain": [
       "[['c', 'b', 'a'], ['c', 'b'], ['c', 'a'], ['c'], ['b', 'a'], ['b'], ['a'], []]"
      ]
     },
     "execution_count": 15,
     "metadata": {},
     "output_type": "execute_result"
    }
   ],
   "source": [
    "get_subsets(['a', 'b', 'c'], 3)"
   ]
  },
  {
   "cell_type": "markdown",
   "metadata": {},
   "source": [
    "##### C-4.16\n",
    "Write a short recursive Python function that takes a character string s and\n",
    "outputs its reverse. For example, the reverse of 'pots&pans' would be\n",
    "'snap&stop'."
   ]
  },
  {
   "cell_type": "code",
   "execution_count": 17,
   "metadata": {
    "ExecuteTime": {
     "end_time": "2019-07-01T15:50:08.922380Z",
     "start_time": "2019-07-01T15:50:08.909699Z"
    }
   },
   "outputs": [
    {
     "data": {
      "text/plain": [
       "'snap&stop'"
      ]
     },
     "execution_count": 17,
     "metadata": {},
     "output_type": "execute_result"
    }
   ],
   "source": [
    "reverse_str('pots&pans', 9)"
   ]
  },
  {
   "cell_type": "markdown",
   "metadata": {},
   "source": [
    "##### C-4.17\n",
    "Write a short recursive Python function that determines if a string s is a\n",
    "palindrome, that is, it is equal to its reverse. For example, 'racecar' and\n",
    "'gohangasalamiimalasagnahog' are palindromes."
   ]
  },
  {
   "cell_type": "code",
   "execution_count": 20,
   "metadata": {
    "ExecuteTime": {
     "end_time": "2019-07-01T15:51:21.234680Z",
     "start_time": "2019-07-01T15:51:21.222623Z"
    }
   },
   "outputs": [
    {
     "data": {
      "text/plain": [
       "(True, False)"
      ]
     },
     "execution_count": 20,
     "metadata": {},
     "output_type": "execute_result"
    }
   ],
   "source": [
    "is_palindrome('racecar'), is_palindrome('racecarss')"
   ]
  },
  {
   "cell_type": "markdown",
   "metadata": {},
   "source": [
    "##### C-4.18\n",
    "Use recursion to write a Python function for determining if a string s has\n",
    "more vowels than consonants."
   ]
  },
  {
   "cell_type": "code",
   "execution_count": 22,
   "metadata": {
    "ExecuteTime": {
     "end_time": "2019-07-01T15:52:05.163970Z",
     "start_time": "2019-07-01T15:52:05.157753Z"
    }
   },
   "outputs": [
    {
     "data": {
      "text/plain": [
       "False"
      ]
     },
     "execution_count": 22,
     "metadata": {},
     "output_type": "execute_result"
    }
   ],
   "source": [
    "is_more_vowel('hello')"
   ]
  },
  {
   "cell_type": "markdown",
   "metadata": {},
   "source": [
    "##### C-4.19\n",
    "Write a short recursive Python function that rearranges a sequence of integer values so that all the even values appear before all the odd values."
   ]
  },
  {
   "cell_type": "code",
   "execution_count": 24,
   "metadata": {
    "ExecuteTime": {
     "end_time": "2019-07-01T15:52:49.523025Z",
     "start_time": "2019-07-01T15:52:49.517802Z"
    }
   },
   "outputs": [
    {
     "data": {
      "text/plain": [
       "[2, 4, 3, 1]"
      ]
     },
     "execution_count": 24,
     "metadata": {},
     "output_type": "execute_result"
    }
   ],
   "source": [
    "even_before_odd([1, 2, 3, 4])"
   ]
  },
  {
   "cell_type": "markdown",
   "metadata": {},
   "source": [
    "##### C-4.20\n",
    "Given an unsorted sequence, S, of integers and an integer k, describe a\n",
    "recursive algorithm for rearranging the elements in S so that all elements\n",
    "less than or equal to k come before any elements larger than k. What is\n",
    "the running time of your algorithm on a sequence of n values?"
   ]
  },
  {
   "cell_type": "code",
   "execution_count": 26,
   "metadata": {
    "ExecuteTime": {
     "end_time": "2019-07-01T15:53:35.023319Z",
     "start_time": "2019-07-01T15:53:35.009684Z"
    }
   },
   "outputs": [
    {
     "data": {
      "text/plain": [
       "[1, 2, 3, 3, 5, 7]"
      ]
     },
     "execution_count": 26,
     "metadata": {},
     "output_type": "execute_result"
    }
   ],
   "source": [
    "seperate_by_k([1, 2, 3, 7, 5, 3], 4)"
   ]
  },
  {
   "cell_type": "markdown",
   "metadata": {},
   "source": [
    "##### C-4.21\n",
    "Suppose you are given an n-element sequence, S, containing distinct in-\n",
    "tegers that are listed in increasing order. Given a number k, describe a\n",
    "recursive algorithm to find two integers in S that sum to k, if such a pair\n",
    "exists. What is the running time of your algorithm?\n",
    "\n",
    ">hint:The beginning and the end of a range of indices in S can be used\n",
    "as arguments to your recursive function."
   ]
  },
  {
   "cell_type": "code",
   "execution_count": 28,
   "metadata": {
    "ExecuteTime": {
     "end_time": "2019-07-01T15:54:56.797354Z",
     "start_time": "2019-07-01T15:54:56.790064Z"
    }
   },
   "outputs": [
    {
     "data": {
      "text/plain": [
       "[1, 4]"
      ]
     },
     "execution_count": 28,
     "metadata": {},
     "output_type": "execute_result"
    }
   ],
   "source": [
    "sum_to_k([1, 2, 3, 4], 5, 0, 3)"
   ]
  },
  {
   "cell_type": "markdown",
   "metadata": {},
   "source": [
    "##### C-4.22\n",
    "Develop a nonrecursive implementation of the version of power from\n",
    "Code Fragment 4.12 that uses repeated squaring.\n",
    "\n",
    "See [stackoverflow](https://stackoverflow.com/questions/23079443/c-x-to-the-power-n-using-repeated-squaring-without-recursive-function)"
   ]
  },
  {
   "cell_type": "code",
   "execution_count": 30,
   "metadata": {
    "ExecuteTime": {
     "end_time": "2019-07-01T15:55:51.265543Z",
     "start_time": "2019-07-01T15:55:51.259729Z"
    }
   },
   "outputs": [
    {
     "data": {
      "text/plain": [
       "32"
      ]
     },
     "execution_count": 30,
     "metadata": {},
     "output_type": "execute_result"
    }
   ],
   "source": [
    "power(2, 5)"
   ]
  }
 ],
 "metadata": {
  "kernelspec": {
   "display_name": "Python 3",
   "language": "python",
   "name": "python3"
  },
  "language_info": {
   "codemirror_mode": {
    "name": "ipython",
    "version": 3
   },
   "file_extension": ".py",
   "mimetype": "text/x-python",
   "name": "python",
   "nbconvert_exporter": "python",
   "pygments_lexer": "ipython3",
   "version": "3.8.5"
  },
  "toc": {
   "nav_menu": {},
   "number_sections": false,
   "sideBar": true,
   "skip_h1_title": false,
   "title_cell": "Table of Contents",
   "title_sidebar": "Contents",
   "toc_cell": false,
   "toc_position": {
    "height": "calc(100% - 180px)",
    "left": "10px",
    "top": "150px",
    "width": "273.2px"
   },
   "toc_section_display": true,
   "toc_window_display": true
  }
 },
 "nbformat": 4,
 "nbformat_minor": 2
}
