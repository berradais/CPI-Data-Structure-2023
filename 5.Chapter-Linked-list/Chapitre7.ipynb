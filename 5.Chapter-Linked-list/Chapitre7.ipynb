{
  "cells": [
    {
      "cell_type": "markdown",
      "metadata": {
        "id": "gaBoMM1W0dnm"
      },
      "source": [
        "# Chapter 07"
      ]
    },
    {
      "cell_type": "code",
      "execution_count": null,
      "metadata": {
        "id": "VQi8jrM80dnp"
      },
      "outputs": [],
      "source": [
        "import copy\n",
        "class Empty(Exception):\n",
        "    pass\n",
        "class LinkedList:\n",
        "    class _Node:\n",
        "        __slots__ = '_element' , '_next' # streamline memory usage\n",
        "        def __init__ (self, element=None, next=None): # initialize node’s fields\n",
        "            self._element = element # reference to user’s element\n",
        "            self._next = next\n",
        "    def __init__ (self):\n",
        "        self._head = None\n",
        "        self._tail = None\n",
        "        self._size = 0\n",
        "    def __len__ (self):\n",
        "        return self.size\n",
        "    def is_empty(self):\n",
        "        return self.size == 0\n",
        "    def add_first(self, e):\n",
        "        newest = self._Node(e,self._head)\n",
        "        newest._next = self._head\n",
        "        self._head = newest\n",
        "        self._size += 1\n",
        "    def add_last(self, e):\n",
        "        newest = self._Node(e,None)\n",
        "        if self._head is None: \n",
        "          self._head = newest\n",
        "        return\n",
        "        last = self._head \n",
        "        while (last._next): \n",
        "          last = last._next    \n",
        "        last._next =  newest\n",
        "        #newest = self._Node(e,None)\n",
        "        #self._tail._next = newest\n",
        "        #self._tail = newest\n",
        "        #self._size = self._size+1\n",
        "\n",
        "    def remove_first(self):\n",
        "        if self._head is None:\n",
        "          raise Empty('List is_empty')\n",
        "        self._head = self._head._next\n",
        "        self._size -= 1"
      ]
    },
    {
      "cell_type": "code",
      "source": [
        "class LinkedStack:\n",
        "    class _Node:\n",
        "        __slots__ = '_element' , '_next' # streamline memory usage\n",
        "        def __init__ (self, element, next): # initialize node’s fields\n",
        "            self._element = element # reference to user’s element\n",
        "            self._next = next\n",
        "    def __init__ (self):\n",
        "        self._head = None\n",
        "        self._size = 0\n",
        "    def __len__ (self):\n",
        "        return self.size\n",
        "    def is_empty(self):\n",
        "        return self.size == 0\n",
        "    def top(self):\n",
        "        if self.is_empty():\n",
        "            raise Empty('Stack is_empty')\n",
        "            return self._head._element\n",
        "\n",
        "    def push(self, e):\n",
        "        self._head = self._Node(e, self._head)\n",
        "        self._size += 1\n",
        "    def pop(self):\n",
        "        if self.is_empty():\n",
        "            raise Empty('Stack is_empty')\n",
        "        answer = self._head._element\n",
        "        self._head = self._head._next\n",
        "        self._size-=1\n",
        "        return answer"
      ],
      "metadata": {
        "id": "w_ZQvNSVDlP4"
      },
      "execution_count": null,
      "outputs": []
    },
    {
      "cell_type": "code",
      "source": [
        "class LinkedQueue:\n",
        "  class _Node:\n",
        "    __slots__ = '_element' , '_next' # streamline memory usage\n",
        "    def __init__ (self, element, next): # initialize node’s fields\n",
        "      self._element = element # reference to user’s element\n",
        "      self._next = next\n",
        "    def __init__ (self):\n",
        "      self._head = None\n",
        "      self._tail = None\n",
        "      self._size = 0 # number of queue elements\n",
        "    def __len__ (self):\n",
        "      return self._size\n",
        "    def is_empty(self):\n",
        "      return self._size == 0\n",
        "    def first(self):\n",
        "      if self.is_empty():\n",
        "        raise Empty('Queue is_empty')\n",
        "      return self._head._element # front aligned with head of list\n",
        "\n",
        "    def dequeue(self):\n",
        "      if self.is_empty():\n",
        "        raise Empty('Queue is_empty')\n",
        "      answer = self._head._element\n",
        "      self._head = self._head._next\n",
        "      self._size-=1\n",
        "      if self.is_empty(): # special case as queue is_empty\n",
        "        self._tail = None # removed head had been the tail\n",
        "      return answer\n",
        "\n",
        "    def enqueue(self, e):\n",
        "      newest = self._Node(e, None) # node will be new tail node\n",
        "      if self.is_empty():\n",
        "        self._head = newest # special case: previously empty\n",
        "      else:\n",
        "        self._tail._next = newest\n",
        "      self._tail = newest # update reference to tail node\n",
        "      self._size += 1"
      ],
      "metadata": {
        "id": "MRTuShIK9Xo9"
      },
      "execution_count": null,
      "outputs": []
    },
    {
      "cell_type": "code",
      "source": [
        "class CircularQueue:\n",
        "  class _Node:\n",
        "    __slots__ = '_element' , '_next' # streamline memory usage\n",
        "    def __init__ (self, element, next): # initialize node’s fields\n",
        "      self._element = element # reference to user’s element\n",
        "      self._next = next\n",
        "    def __init__ (self):\n",
        "        self._tail = None # will represent tail of queue\n",
        "        self._size = 0 # number of queue elements\n",
        "    def __len__ (self):\n",
        "        return self._size\n",
        "\n",
        "    def is_empty(self):\n",
        "        return self._size == 0\n",
        "    def first(self):\n",
        "        if self.is_empty():\n",
        "            raise Empty('Queue is_empty')\n",
        "        _head = self._tail._next\n",
        "        return _head._element\n",
        "    def dequeue(self):\n",
        "        if self.is_empty():\n",
        "            raise Empty('Queue is_empty')\n",
        "        oldhead = self._tail._next\n",
        "        if self._size == 1: # removing only element\n",
        "            self._tail = None # queue becomes empty\n",
        "        else:\n",
        "            self._tail._next = oldhead._next # bypass the old head\n",
        "        self._size-= 1\n",
        "        return oldhead._element\n",
        "    def enqueue(self, e):\n",
        "        newest = self._Node(e, None) # node will be new tail node\n",
        "        if self.is_empty():\n",
        "            newest._next = newest # initialize circularly\n",
        "        else:\n",
        "            newest._next = self._tail._next # new node points to head\n",
        "            self._tail._next = newest # old tail points to new node\n",
        "        self._tail = newest # new node becomes the tail\n",
        "        self._size += 1\n",
        "    def rotate(self):\n",
        "        if self._size > 0:\n",
        "            self._tail = self._tail._next # old head"
      ],
      "metadata": {
        "id": "YcnRYxyh-XaW"
      },
      "execution_count": null,
      "outputs": []
    },
    {
      "cell_type": "code",
      "source": [
        "class _DoublyLinkedBase:\n",
        "\tclass _Node:\n",
        "\t\t__slots__ = '_element' , '_prev' , '_next' # streamline memory\n",
        "\t\tdef __init__ (self, element, prev, next): # initialize node's fields\n",
        "\t\t\tself._element = element # user's element\n",
        "\t\t\tself._prev = prev # previous node reference\n",
        "\t\t\tself._next = next # next node reference\n",
        "\t\t\t\n",
        "\tdef __init__ (self):\n",
        "\t\tself._header = self._Node(None, None, None)\n",
        "\t\tself._trailer = self._Node(None, None, None)\n",
        "\t\tself._header.next = self._trailer # trailer is after header\n",
        "\t\tself._trailer.prev = self._header # header is before trailer\n",
        "\t\tself._size = 0 # number of elements\n",
        "\t\t\n",
        "\tdef __len__ (self):\n",
        "\t\treturn self.size\n",
        "\t\t\n",
        "\tdef is_empty(self):\n",
        "\t\treturn self.size == 0\n",
        "\t\t\n",
        "\tdef _insert_between(self, e, predecessor, successor):\n",
        "\t\tnewest = self._Node(e, predecessor, successor)\n",
        "\t\tpredecessor._next = newest\n",
        "\t\tsuccessor._prev = newest\n",
        "\t\tself._size += 1\n",
        "\t\treturn newest\n",
        "\t\t\n",
        "\tdef delete_node(self, node):\n",
        "\t\tpredecessor = node._prev\n",
        "\t\tsuccessor = node._next\n",
        "\t\tpredecessor._next = successor\n",
        "\t\tsuccessor._prev = predecessor\n",
        "\t\tself._size-=1\n",
        "\t\telement = node._element # record deleted element\n",
        "\t\tnode._prev = node._next = node._element = None # deprecate node\n",
        "\t\treturn element"
      ],
      "metadata": {
        "id": "nnoXOd-l_Ai2"
      },
      "execution_count": null,
      "outputs": []
    },
    {
      "cell_type": "code",
      "source": [
        "class _DoublyLinkedBase:\n",
        "\tclass _Node:\n",
        "\t\t__slots__ = '_element' , '_prev' , '_next' # streamline memory\n",
        "\t\tdef __init__ (self, element, prev, next): # initialize node's fields\n",
        "\t\t\tself._element = element # user's element\n",
        "\t\t\tself._prev = prev # previous node reference\n",
        "\t\t\tself._next = next # next node reference\n",
        "\t\t\t\n",
        "\tdef __init__ (self):\n",
        "\t\tself._header = self._Node(None, None, None)\n",
        "\t\tself._trailer = self._Node(None, None, None)\n",
        "\t\tself._header.next = self._trailer # trailer is after header\n",
        "\t\tself._trailer.prev = self._header # header is before trailer\n",
        "\t\tself._size = 0 # number of elements\n",
        "\t\t\n",
        "\tdef __len__ (self):\n",
        "\t\treturn self.size\n",
        "\t\t\n",
        "\tdef is_empty(self):\n",
        "\t\treturn self.size == 0\n",
        "\t\t\n",
        "\tdef _insert_between(self, e, predecessor, successor):\n",
        "\t\tnewest = self._Node(e, predecessor, successor)\n",
        "\t\tpredecessor._next = newest\n",
        "\t\tsuccessor._prev = newest\n",
        "\t\tself._size += 1\n",
        "\t\treturn newest\n",
        "\t\t\n",
        "\tdef delete_node(self, node):\n",
        "\t\tpredecessor = node._prev\n",
        "\t\tsuccessor = node._next\n",
        "\t\tpredecessor._next = successor\n",
        "\t\tsuccessor._prev = predecessor\n",
        "\t\tself._size-=1\n",
        "\t\telement = node._element # record deleted element\n",
        "\t\tnode._prev = node._next = node._element = None # deprecate node\n",
        "\t\treturn element"
      ],
      "metadata": {
        "id": "Xol5a8yo_pZu"
      },
      "execution_count": null,
      "outputs": []
    },
    {
      "cell_type": "code",
      "source": [
        "class LinkedDeque(_DoublyLinkedBase): # note the use of inheritance\n",
        "\tdef first(self):\n",
        "\t\tif self.is_empty( ):\n",
        "\t\t\traise Empty(\"Deque is empty\")\n",
        "\t\treturn self._header._next._element # real item just after header\n",
        "\t\t\n",
        "\tdef last(self):\n",
        "\t\tif self.is_empty( ):\n",
        "\t\t\traise Empty(\"Deque is empty\")\n",
        "\t\treturn self._trailer._prev._element # real item just before trailer\n",
        "\t\t\n",
        "\tdef insert_first(self, e):\n",
        "\t\tself._insert_between(e, self. header, self. header. next) # after header\n",
        "\n",
        "\tdef insert_last(self, e):\n",
        "\t\tself._insert_between(e, self. trailer. prev, self. trailer) # before trailer\n",
        "\n",
        "\tdef delete_first(self):\n",
        "\t\tif self.is_empty( ):\n",
        "\t\t\traise Empty(\"Deque is empty\")\n",
        "\t\treturn self._delete_node(self._header._next) # use inherited method\n",
        "\n",
        "\tdef delete_last(self):\n",
        "\t\tif self.is_empty( ):\n",
        "\t\t\traise Empty(\"Deque is empty\")\n",
        "\t\treturn self._delete_node(self._trailer._prev) # use inherited method"
      ],
      "metadata": {
        "id": "hBqJMz-l_w-m"
      },
      "execution_count": null,
      "outputs": []
    },
    {
      "cell_type": "code",
      "source": [
        "class PositionalList(_DoublyLinkedBase):\n",
        "\tclass _Position:\n",
        "\t\tdef __init__ (self, container, node):\n",
        "\t\t\tself._container = container\n",
        "\t\t\tself._node = node\n",
        "\n",
        "\t\tdef element(self):\n",
        "\t\t\treturn self._node._element\n",
        "\n",
        "\t\tdef __eq__(self, other):\n",
        "\t\t\treturn type(other) is type(self) and other.__node is self.__node\n",
        "\t\t\t\n",
        "\t\tdef __ne__ (self, other):\n",
        "\t\t\treturn not (self == other) # opposite of eq\n",
        "\t\t\n",
        "\t\tdef _validate(self, p):\n",
        "\t\t\tif not isinstance(p, self._Position):\n",
        "\t\t\t\traise TypeError('p must be proper Position type')\n",
        "\t\t\tif p._container is not self:\n",
        "\t\t\t\traise ValueError('p does not belong to this container')\n",
        "\t\t\tif p._node._next is None: # convention for deprecated nodes\n",
        "\t\t\t\traise ValueError('p is no longer valid')\n",
        "\t\t\treturn p._node\n",
        "\t\t\t\n",
        "\t\tdef _make_position(self, node):\n",
        "\t\t\tif node is self._header or node is self._trailer:\n",
        "\t\t\t\treturn None # boundary violation\n",
        "\t\t\telse:\n",
        "\t\t\t\treturn self._Position(self, node) # legitimate position\n",
        "\n",
        "\t\tdef first(self):\n",
        "\t\t\treturn self._make_position(self._header._next)\n",
        "\n",
        "\t\tdef last(self):\n",
        "\t\t\treturn self._make_position(self._trailer._prev)\n",
        "\n",
        "\t\tdef before(self, p):\n",
        "\t\t\tnode = self._validate(p)\n",
        "\t\t\treturn self._make_position(node._prev)\n",
        "\n",
        "\t\tdef after(self, p):\n",
        "\t\t\tnode = self._validate(p)\n",
        "\t\t\treturn self._make_position(node._next)\n",
        "\n",
        "\t\tdef __iter__(self):\n",
        "\t\t\tcursor = self.first( )\n",
        "\t\t\twhile cursor is not None:\n",
        "\t\t\t\tyield cursor.element( )\n",
        "\t\t\t\tcursor = self.after(cursor)\n",
        "\n",
        "\t\tdef _insert_between(self, e, predecessor, successor):\n",
        "\t\t\tnode = super()._insert_between(e, predecessor, successor)\n",
        "\t\t\treturn self._make_position(node)\n",
        "\n",
        "\t\tdef add_first(self, e):\n",
        "\t\t\treturn self._insert_between(e, self._header, self._header._next)\n",
        "\n",
        "\t\tdef add_last(self, e):\n",
        "\t\t\treturn self._insert_between(e, self._trailer. prev, self._trailer)\n",
        "\n",
        "\t\tdef add_before(self, p, e):\n",
        "\t\t\toriginal = self. validate(p)\n",
        "\t\t\treturn self._insert_between(e, original._prev, original)\n",
        "\n",
        "\t\tdef add_after(self, p, e):\n",
        "\t\t\toriginal = self._validate(p)\n",
        "\t\t\treturn self._insert_between(e, original, original. next)\n",
        "\n",
        "\t\tdef delete(self, p):\n",
        "\t\t\toriginal = self._validate(p)\n",
        "\t\t\treturn self._delete_node(original) # inherited method returns element\n",
        "\n",
        "\t\tdef replace(self, p, e):\n",
        "\t\t\toriginal = self. validate(p)\n",
        "\t\t\told_value = original._element # temporarily store old element\n",
        "\t\t\toriginal._element = e # replace with new element\n",
        "\t\t\treturn old_value # return the old element value"
      ],
      "metadata": {
        "id": "wzHui-lz_5Kn"
      },
      "execution_count": null,
      "outputs": []
    },
    {
      "cell_type": "markdown",
      "metadata": {
        "id": "fqg_Dg2Q0dnq"
      },
      "source": [
        "## Exercises"
      ]
    },
    {
      "cell_type": "markdown",
      "source": [
        "##### R-7.1\n",
        "Give an algorithm for finding the second-to-last node in a singly linked\n",
        "list in which the last node is indicated by a next reference of None."
      ],
      "metadata": {
        "id": "dDBb9H9r0wW3"
      }
    },
    {
      "cell_type": "code",
      "source": [
        "def get_second_to_last(sll: LinkedStack):\n",
        "    ptr = sll._head\n",
        "    while ptr._next._next is not None:\n",
        "        ptr = ptr._next\n",
        "    return ptr._element\n",
        "l=LinkedStack()\n",
        "l.push(12)\n",
        "l.push(4055)\n",
        "l.push(22)\n",
        "l.push(55)\n",
        "l.push(550)\n",
        "\n",
        "get_second_to_last(l)"
      ],
      "metadata": {
        "colab": {
          "base_uri": "https://localhost:8080/"
        },
        "id": "6N724rc_0xqn",
        "outputId": "5c2c22f1-e7b1-4d73-906b-b53e6b8d3c5b"
      },
      "execution_count": null,
      "outputs": [
        {
          "output_type": "execute_result",
          "data": {
            "text/plain": [
              "4055"
            ]
          },
          "metadata": {},
          "execution_count": 103
        }
      ]
    },
    {
      "cell_type": "code",
      "source": [
        "sll = Singlellist([1, 2, 3])\n",
        "get_second_to_last(sll)"
      ],
      "metadata": {
        "id": "-T213wGT05Sf"
      },
      "execution_count": null,
      "outputs": []
    },
    {
      "cell_type": "markdown",
      "metadata": {
        "id": "Iqfmp1R10dnq"
      },
      "source": [
        "### R-7.2\n",
        "\n",
        "Describe a good algorithm for concatenating two singly linked stacks L and M, given only reference to the first node of each list, into a single list $L^\\prime$ that contains all the nodes of $L$ followed by all nodes of $M$. (What about linked queues)"
      ]
    },
    {
      "cell_type": "markdown",
      "metadata": {
        "id": "UTxWS3Xa0dnr"
      },
      "source": [
        "##### Answer"
      ]
    },
    {
      "cell_type": "code",
      "execution_count": null,
      "metadata": {
        "id": "iPZsK9640dns"
      },
      "outputs": [],
      "source": [
        "class LinkedStack:\n",
        "    \"\"\"LIFO Stack implementatino using a singly linked list for storage\"\"\"\n",
        "    \n",
        "    class _Node:\n",
        "        __slots__ = '_element', '_next'\n",
        "        \n",
        "        def __init__(self, element, nxt):\n",
        "            self._element = element\n",
        "            self._next = nxt\n",
        "        \n",
        "    \n",
        "    def __init__(self):\n",
        "        self._head = None\n",
        "        self._size = 0\n",
        "        \n",
        "    def __len__(self):\n",
        "        return self._size\n",
        "    \n",
        "    def __iter__(self):\n",
        "        cur = self._head\n",
        "        while cur is not None:\n",
        "            yield cur._element\n",
        "            cur = cur._next\n",
        "        \n",
        "    def is_empty(self):\n",
        "        return self._size == 0\n",
        "    \n",
        "    def push(self, e):\n",
        "        self._head = self._Node(e, self._head)\n",
        "        self._size += 1\n",
        "        \n",
        "    def top(self):\n",
        "        if self.is_empty():\n",
        "            raise Empty('Stack is empty')\n",
        "        return self._head._element\n",
        "    \n",
        "    def pop(self):\n",
        "        if self.is_empty():\n",
        "            raise Empty('Stack is empty')\n",
        "        answer = self._head._element\n",
        "        self._head = self._head._next\n",
        "        self._size -= 1\n",
        "        return answer\n"
      ]
    },
    {
      "cell_type": "code",
      "execution_count": null,
      "metadata": {
        "id": "Qb14L05H0dnt"
      },
      "outputs": [],
      "source": [
        "L = LinkedStack()"
      ]
    },
    {
      "cell_type": "code",
      "execution_count": null,
      "metadata": {
        "id": "XFpex0b00dnt"
      },
      "outputs": [],
      "source": [
        "L.push(5)\n",
        "L.push(4)\n",
        "L.push(3)"
      ]
    },
    {
      "cell_type": "code",
      "execution_count": null,
      "metadata": {
        "colab": {
          "base_uri": "https://localhost:8080/"
        },
        "id": "niVzhdil0dnu",
        "outputId": "63786784-9fcb-4408-85b6-7a55f4c7ba6b"
      },
      "outputs": [
        {
          "output_type": "execute_result",
          "data": {
            "text/plain": [
              "[3, 4, 5]"
            ]
          },
          "metadata": {},
          "execution_count": 108
        }
      ],
      "source": [
        "[i for i in L]"
      ]
    },
    {
      "cell_type": "code",
      "execution_count": null,
      "metadata": {
        "id": "lGgcHSZr0dnu"
      },
      "outputs": [],
      "source": [
        "M = LinkedStack()\n",
        "M.push(3)\n",
        "M.push(2)\n",
        "M.push(1)"
      ]
    },
    {
      "cell_type": "code",
      "execution_count": null,
      "metadata": {
        "colab": {
          "base_uri": "https://localhost:8080/"
        },
        "id": "mfzWCmqh0dnv",
        "outputId": "555b0c7a-db22-484d-e773-03e2df75c49e"
      },
      "outputs": [
        {
          "output_type": "execute_result",
          "data": {
            "text/plain": [
              "[1, 2, 3]"
            ]
          },
          "metadata": {},
          "execution_count": 110
        }
      ],
      "source": [
        "[i for i in M]"
      ]
    },
    {
      "cell_type": "markdown",
      "metadata": {
        "id": "n97B3Y5i0dnv"
      },
      "source": [
        "Making a new `LinkedStack` is less efficient ($n$ pop & $n$ push for each list) than just making the base list's last node to designate the head of the list to be appended ($n$ references for traversing). "
      ]
    },
    {
      "cell_type": "code",
      "execution_count": null,
      "metadata": {
        "id": "xOM9Pve60dnv"
      },
      "outputs": [],
      "source": [
        "def concat_singly_linked_stack(base, append):\n",
        "     \n",
        "    base = copy.deepcopy(base)\n",
        "    append = copy. (append)\n",
        "    \n",
        "    base_last = None\n",
        "    cur = base._head\n",
        "    while True:  # Need to traverse whole list since LinkedStack does not keep its last node.\n",
        "        if cur._next is None:\n",
        "            base_last = cur\n",
        "            break\n",
        "        cur = cur._next\n",
        "    base_last._next = append._head\n",
        "    base._size += append._size\n",
        "    return base"
      ]
    },
    {
      "cell_type": "code",
      "execution_count": null,
      "metadata": {
        "id": "Qh4aGory0dnw"
      },
      "outputs": [],
      "source": [
        "concat_list = concat_singly_linked_stack(L, M)"
      ]
    },
    {
      "cell_type": "code",
      "execution_count": null,
      "metadata": {
        "colab": {
          "base_uri": "https://localhost:8080/"
        },
        "id": "zhlgvwkQ0dnw",
        "outputId": "1f2f12fe-eac0-424e-d831-ea6ddaab7474"
      },
      "outputs": [
        {
          "output_type": "execute_result",
          "data": {
            "text/plain": [
              "[3, 4, 5, 1, 2, 3]"
            ]
          },
          "metadata": {},
          "execution_count": 113
        }
      ],
      "source": [
        "[i for i in concat_list]"
      ]
    },
    {
      "cell_type": "markdown",
      "metadata": {
        "id": "FKgwQzdW0dnw"
      },
      "source": [
        "### R-7.3\n",
        "\n",
        "Describe a recursive algorithm that counts the number of nodes in a singly linked list."
      ]
    },
    {
      "cell_type": "markdown",
      "metadata": {
        "id": "U6xu-3A10dnw"
      },
      "source": [
        "##### Answer"
      ]
    },
    {
      "cell_type": "code",
      "execution_count": null,
      "metadata": {
        "id": "hU43Wpu70dnx"
      },
      "outputs": [],
      "source": [
        "def recursive_count(list_head):\n",
        "    \"\"\"\n",
        "    list_head: head reference to a list\n",
        "    \"\"\"\n",
        "    \n",
        "    if list_head._next is None:\n",
        "        return 1\n",
        "    else:\n",
        "        return 1 + recursive_count(list_head._next)\n"
      ]
    },
    {
      "cell_type": "code",
      "execution_count": null,
      "metadata": {
        "colab": {
          "base_uri": "https://localhost:8080/"
        },
        "id": "SEmiVKId0dnx",
        "outputId": "389f1090-22cf-426a-c983-01cf98335a35"
      },
      "outputs": [
        {
          "output_type": "execute_result",
          "data": {
            "text/plain": [
              "6"
            ]
          },
          "metadata": {},
          "execution_count": 115
        }
      ],
      "source": [
        "recursive_count(concat_list._head)"
      ]
    },
    {
      "cell_type": "markdown",
      "source": [
        "##### R-7.4\n",
        "Describe in detail how to swap two nodes x and y (and not just their con-\n",
        "tents) in a singly linked list L given references only to x and y. Repeat\n",
        "this exercise for the case when L is a doubly linked list. Which algorithm\n",
        "takes more time?"
      ],
      "metadata": {
        "id": "jAMh3T-A1BZ2"
      }
    },
    {
      "cell_type": "code",
      "source": [
        "# single linked list\n",
        "def sll_swap_node(sll: LinkedStack, x, y) -> None:\n",
        "    if x == y:\n",
        "        return sll\n",
        "    # find prev_x, curr_x\n",
        "    ptr = sll._head\n",
        "    while ptr._next._element != x:\n",
        "        ptr = ptr._next\n",
        "    prev_x = ptr\n",
        "    curr_x = ptr._next\n",
        "\n",
        "    # S1: find prev_y, curr_y\n",
        "    ptr = sll._head\n",
        "    while ptr._next._element != y:\n",
        "        ptr = ptr._next\n",
        "    prev_y = ptr\n",
        "    curr_y = ptr._next\n",
        "\n",
        "    # S2: change prev\n",
        "    if prev_x is None:  # x is the head\n",
        "        sll._head = curr_y\n",
        "    else:\n",
        "        prev_x._next = curr_y\n",
        "\n",
        "    if prev_y is None:  # y is the head\n",
        "        sll._head = curr_x\n",
        "    else:\n",
        "        prev_y._next = curr_x\n",
        "\n",
        "    # S3: change next\n",
        "    temp = curr_x._next\n",
        "    curr_x._next = curr_y._next\n",
        "    curr_y._next = temp"
      ],
      "metadata": {
        "id": "PeRc9dAv1Dxm"
      },
      "execution_count": null,
      "outputs": []
    },
    {
      "cell_type": "code",
      "source": [
        "L = LinkedStack()\n",
        "L.push(1)\n",
        "L.push(2)\n",
        "L.push(3)\n",
        "L.push(4)\n",
        "L.push(24)#what happens if we remove this instruction\n",
        "sll_swap_node(L, 2, 4)\n",
        "[i for i in L]"
      ],
      "metadata": {
        "colab": {
          "base_uri": "https://localhost:8080/"
        },
        "id": "ZxNhw65X1L2N",
        "outputId": "1280b773-863d-41f7-ece3-12d4bdead977"
      },
      "execution_count": null,
      "outputs": [
        {
          "output_type": "execute_result",
          "data": {
            "text/plain": [
              "[24, 2, 3, 4, 1]"
            ]
          },
          "metadata": {},
          "execution_count": 124
        }
      ]
    },
    {
      "cell_type": "markdown",
      "metadata": {
        "id": "00K4kmpG0dnx"
      },
      "source": [
        "### R-7.7\n",
        "\n",
        "Our `CircularQueue` class provides a `rotate()` method that has semantics equivalent to `Q.enqueue(Q.dequeue())`, for a nonempty queue. Implement such a method for the `LinkedQueue ` class without the creation of any new nodes."
      ]
    },
    {
      "cell_type": "markdown",
      "metadata": {
        "id": "3JC53SW90dnx"
      },
      "source": [
        "##### Answer"
      ]
    },
    {
      "cell_type": "code",
      "execution_count": null,
      "metadata": {
        "id": "KN9RI3Sk0dny"
      },
      "outputs": [],
      "source": [
        "class LinkedQueue:\n",
        "    \n",
        "    class _Node:\n",
        "        __slots__ = '_element', '_next'\n",
        "        \n",
        "        def __init__(self, element, nxt):\n",
        "            self._element = element\n",
        "            self._next = nxt\n",
        "    \n",
        "    def __init__(self):\n",
        "        self._head = None\n",
        "        self._tail = None\n",
        "        self._size = 0\n",
        "        \n",
        "    def __len__(self):\n",
        "        return self._size\n",
        "    \n",
        "    def __iter__(self):\n",
        "        cur = self._head\n",
        "        while cur is not None:\n",
        "            yield cur._element\n",
        "            cur = cur._next\n",
        "    \n",
        "    def is_empty(self):\n",
        "        return self._size == 0\n",
        "    \n",
        "    def first(self):\n",
        "        if self.is_empty():\n",
        "            raise Empty(\"Queue is empty\")\n",
        "        return self._head._element\n",
        "    \n",
        "    def dequeue(self):\n",
        "        \n",
        "        if self.is_empty():\n",
        "            raise Empty(\"Queue is empty\")\n",
        "        answer = self._head._element\n",
        "        self._head = self._head._next\n",
        "        self._size -= 1\n",
        "        if self.is_empty():\n",
        "            self._tail = None\n",
        "        return answer\n",
        "    \n",
        "    def enqueue(self, e):\n",
        "        \n",
        "        newest = self._Node(e, None)\n",
        "        if self.is_empty():\n",
        "            self._head = newest\n",
        "        else:\n",
        "            self._tail._next = newest\n",
        "        self._tail = newest\n",
        "        self._size += 1\n",
        "        "
      ]
    },
    {
      "cell_type": "markdown",
      "metadata": {
        "id": "xABT3hNr0dny"
      },
      "source": [
        "`rotate` method in `LinkedQueue` should `dequeue` the first element and insert it back into its tail by `enqueue`"
      ]
    },
    {
      "cell_type": "code",
      "execution_count": null,
      "metadata": {
        "id": "Nm6sA16c0dny"
      },
      "outputs": [],
      "source": [
        "def rotate(self):\n",
        "    if self._size > 0:\n",
        "        old_head = self._head\n",
        "        self._head = old_head._next\n",
        "        self._tail._next = old_head\n",
        "        old_head._next = None\n",
        "        \n",
        "LinkedQueue.rotate = rotate  # monkey patching"
      ]
    },
    {
      "cell_type": "code",
      "execution_count": null,
      "metadata": {
        "id": "y0zsuZGA0dny"
      },
      "outputs": [],
      "source": [
        "q = LinkedQueue()\n",
        "q.enqueue(5)\n",
        "q.enqueue(4)\n",
        "q.enqueue(3)\n",
        "q.enqueue(2)\n",
        "q.enqueue(1)"
      ]
    },
    {
      "cell_type": "code",
      "execution_count": null,
      "metadata": {
        "id": "RPoFWBBd0dnz"
      },
      "outputs": [],
      "source": [
        "q.rotate()"
      ]
    },
    {
      "cell_type": "code",
      "execution_count": null,
      "metadata": {
        "colab": {
          "base_uri": "https://localhost:8080/"
        },
        "id": "mVBR45zr0dnz",
        "outputId": "06c4a8c1-de96-4399-9a94-5d2e786410be"
      },
      "outputs": [
        {
          "output_type": "execute_result",
          "data": {
            "text/plain": [
              "[4, 3, 2, 1, 5]"
            ]
          },
          "metadata": {},
          "execution_count": 129
        }
      ],
      "source": [
        "[i for i in q]"
      ]
    },
    {
      "cell_type": "markdown",
      "metadata": {
        "id": "tMOtWgA70dnz"
      },
      "source": [
        "### R-7.13"
      ]
    },
    {
      "cell_type": "markdown",
      "metadata": {
        "id": "YH9XggdO0dnz"
      },
      "source": [
        "Update the `PositionalList` class to support an additional method `find(e)`, which returns the position of the (first occurrence of )element `e` in the list (or None if not found)."
      ]
    },
    {
      "cell_type": "code",
      "execution_count": null,
      "metadata": {
        "id": "yyNSXxXN0dnz"
      },
      "outputs": [],
      "source": [
        "class _DoublyLinkedBase:\n",
        "    \"\"\"A base calss providing a doubly linked list representation.\"\"\"\n",
        "    \n",
        "    class _Node:\n",
        "        __slots__ = '_element', '_prev', '_next'\n",
        "        \n",
        "        def __init__(self, element, prev, nxt):\n",
        "            self._element = element\n",
        "            self._prev = prev\n",
        "            self._next = nxt\n",
        "    \n",
        "    def __init__(self):\n",
        "        self._header = self._Node(None, None, None)\n",
        "        self._trailer = self._Node(None, None, None)\n",
        "        self._header._next = self._trailer\n",
        "        self._trailer._prev = self._header\n",
        "        self._size = 0\n",
        "        \n",
        "    def __len__(self):\n",
        "        return self._size\n",
        "    \n",
        "    def is_empty(self):\n",
        "        return self._size == 0\n",
        "    \n",
        "    def _insert_between(self, e, predecessor, successor):\n",
        "        newest = self._Node(e, predecessor, successor)\n",
        "        predecessor._next = newest\n",
        "        successor._prev = newest\n",
        "        self._size += 1\n",
        "        return newest\n",
        "    \n",
        "    def _delete_node(self, node):\n",
        "        predecessor = node._prev\n",
        "        successor = node._next\n",
        "        predecessor._next = successor\n",
        "        successor._prev = predecessor\n",
        "        self._size -= 1\n",
        "        element = node._element\n",
        "        node._prev = node._next = node._element = None\n",
        "        return element"
      ]
    },
    {
      "cell_type": "code",
      "execution_count": null,
      "metadata": {
        "id": "QLihFpwZ0dn0"
      },
      "outputs": [],
      "source": [
        "class PositionalList(_DoublyLinkedBase):\n",
        "    \n",
        "    class Position:\n",
        "        \"\"\"An abstraction representing the location of a single element.\"\"\"\n",
        "        \n",
        "        def __init__(self, container, node):\n",
        "            self._container = container\n",
        "            self._node = node\n",
        "        \n",
        "        def element(self):\n",
        "            return self._node._element\n",
        "        \n",
        "        def __eq__(self, other):\n",
        "            return type(other) is type(self) and other._Node is self._node\n",
        "        \n",
        "        def __ne__(self, other):\n",
        "            return not (self == other)\n",
        "        \n",
        "    \n",
        "    def _validate(self, p):\n",
        "        if not isinstance(p, self.Position):\n",
        "            raise TypeError('p must be proper Position type')\n",
        "        if p._container is not self:\n",
        "            raise ValueError('p does not belong to this container')\n",
        "        if p._node._next is None:\n",
        "            raise ValueError('p is no longer valid')\n",
        "        return p._node\n",
        "    \n",
        "    \n",
        "    def _make_position(self, node):\n",
        "        if node is self._header or node is self._trailer:\n",
        "            return None\n",
        "        else:\n",
        "            return self.Position(self, node)\n",
        "        \n",
        "    def first(self):\n",
        "        return self._make_position(self._header._next)\n",
        "    \n",
        "    def last(self):\n",
        "        return self._make_position(self._trailer._prev)\n",
        "    \n",
        "    def before(self, p):\n",
        "        node = self._validate(p)\n",
        "        return self._make_position(node._prev)\n",
        "    \n",
        "    def after(self, p):\n",
        "        node = self._validate(p)\n",
        "        return self._make_position(node._next)\n",
        "    \n",
        "    def __iter__(self):\n",
        "        cursor = self.first()\n",
        "        while cursor is not None:\n",
        "            yield cursor.element()\n",
        "            cursor = self.after(cursor)\n",
        "            \n",
        "    def _insert_between(self, e, predecessor, successor):\n",
        "        node = super()._insert_between(e, predecessor, successor)\n",
        "        return self._make_position(node)\n",
        "    \n",
        "    def add_first(self, e):\n",
        "        return self._insert_between(e, self._header, self._header._next)\n",
        "    \n",
        "    def add_last(self, e):\n",
        "        return self._insert_between(e, self._trailer._prev, self._trailer)\n",
        "    \n",
        "    def add_before(self, p, e):\n",
        "        original = self._validate(p)\n",
        "        return self._insert_between(e, original._prev, original)\n",
        "    \n",
        "    def add_after(self, p, e):\n",
        "        original = self._validate(p)\n",
        "        return self._insert_between(e, original, original._next)\n",
        "    \n",
        "    def delete(self, p):\n",
        "        original = self._validate(p)\n",
        "        return self._delete_node(original)\n",
        "    \n",
        "    def replace(self, p, e):\n",
        "        original = self._validate(p)\n",
        "        old_value = original._element\n",
        "        original._element = e\n",
        "        return old_value\n",
        "    def find(self, e):\n",
        "        cur = self.first()\n",
        "        while True:\n",
        "            if cur is None:\n",
        "                return None\n",
        "            if cur.element() == e:\n",
        "                return cur\n",
        "            cur = self.after(cur)\n",
        "\n",
        "        "
      ]
    },
    {
      "cell_type": "code",
      "execution_count": null,
      "metadata": {
        "id": "LPmNlYUM0dn0"
      },
      "outputs": [],
      "source": [
        "p = PositionalList()"
      ]
    },
    {
      "cell_type": "code",
      "execution_count": null,
      "metadata": {
        "id": "4PWLsXwe0dn0"
      },
      "outputs": [],
      "source": [
        "for i in [2, 8 ,1, 10, 9, 8, 4, 3]:\n",
        "    p.add_first(i)"
      ]
    },
    {
      "cell_type": "code",
      "execution_count": null,
      "metadata": {
        "colab": {
          "base_uri": "https://localhost:8080/"
        },
        "id": "vvNQEdg30dn0",
        "outputId": "9573981b-c59e-4ea2-c77c-abfce7d1efa9"
      },
      "outputs": [
        {
          "output_type": "execute_result",
          "data": {
            "text/plain": [
              "3"
            ]
          },
          "metadata": {},
          "execution_count": 146
        }
      ],
      "source": [
        "p.first().element()"
      ]
    },
    {
      "cell_type": "code",
      "execution_count": null,
      "metadata": {
        "colab": {
          "base_uri": "https://localhost:8080/"
        },
        "id": "SAhhrBGX0dn1",
        "outputId": "280288c6-99d9-47b5-f4ca-5bfe29bfd1ec"
      },
      "outputs": [
        {
          "output_type": "execute_result",
          "data": {
            "text/plain": [
              "[3, 4, 8, 9, 10, 1, 8, 2]"
            ]
          },
          "metadata": {},
          "execution_count": 147
        }
      ],
      "source": [
        "[i for i in p]"
      ]
    },
    {
      "cell_type": "code",
      "execution_count": null,
      "metadata": {
        "colab": {
          "base_uri": "https://localhost:8080/"
        },
        "id": "TrQ4JQXQ0dn1",
        "outputId": "db4c676d-87be-48d7-99b6-17e0282cb6a5"
      },
      "outputs": [
        {
          "output_type": "execute_result",
          "data": {
            "text/plain": [
              "<__main__.PositionalList.Position at 0x7f7bccc43890>"
            ]
          },
          "metadata": {},
          "execution_count": 148
        }
      ],
      "source": [
        "p.find(10)"
      ]
    },
    {
      "cell_type": "code",
      "execution_count": null,
      "metadata": {
        "colab": {
          "base_uri": "https://localhost:8080/"
        },
        "id": "FYqeEbpQ0dn1",
        "outputId": "22dfa957-2f40-445c-a7d6-49b7fba7357a"
      },
      "outputs": [
        {
          "output_type": "execute_result",
          "data": {
            "text/plain": [
              "9"
            ]
          },
          "metadata": {},
          "execution_count": 149
        }
      ],
      "source": [
        "p.before(p.find(10)).element()"
      ]
    },
    {
      "cell_type": "code",
      "execution_count": null,
      "metadata": {
        "colab": {
          "base_uri": "https://localhost:8080/"
        },
        "id": "FRuApjwe0dn1",
        "outputId": "b8690710-0209-4b1f-e7f8-bce1617bcb3b"
      },
      "outputs": [
        {
          "output_type": "execute_result",
          "data": {
            "text/plain": [
              "<__main__.PositionalList.Position at 0x7f7bccc2f890>"
            ]
          },
          "metadata": {},
          "execution_count": 150
        }
      ],
      "source": [
        "p.find(8)"
      ]
    },
    {
      "cell_type": "code",
      "execution_count": null,
      "metadata": {
        "colab": {
          "base_uri": "https://localhost:8080/"
        },
        "id": "FUOx0L5v0dn2",
        "outputId": "9188e973-7515-4b22-dc79-807a248d58ea"
      },
      "outputs": [
        {
          "output_type": "execute_result",
          "data": {
            "text/plain": [
              "9"
            ]
          },
          "metadata": {},
          "execution_count": 151
        }
      ],
      "source": [
        "p.after(p.find(8)).element()"
      ]
    },
    {
      "cell_type": "code",
      "execution_count": null,
      "metadata": {
        "id": "OeYNuiOe0dn2"
      },
      "outputs": [],
      "source": [
        "p.find(99)  # Not found: None"
      ]
    },
    {
      "cell_type": "markdown",
      "metadata": {
        "id": "dj6dCJAe0dn2"
      },
      "source": [
        "### R-7.14\n",
        "\n",
        "Repeat the previous process using recursion. Your method should not contain any loops. How much space does your method use in addition to the space used for $L$?"
      ]
    },
    {
      "cell_type": "code",
      "execution_count": null,
      "metadata": {
        "id": "F8Cg5uf70dn2"
      },
      "outputs": [],
      "source": [
        "def find_recursive(self, cur_pos, e):\n",
        "    \n",
        "    if cur_pos is None:\n",
        "        return None\n",
        "    elif cur_pos.element() == e:\n",
        "        return cur_pos\n",
        "    else:\n",
        "        cur_pos = self.after(cur_pos)\n",
        "        return find_recursive(self, cur_pos, e)\n",
        "        \n",
        "\n",
        "PositionalList.find_recursive = find_recursive  # Monkey patching"
      ]
    },
    {
      "cell_type": "code",
      "execution_count": null,
      "metadata": {
        "colab": {
          "base_uri": "https://localhost:8080/"
        },
        "id": "wYLisy4J0dn2",
        "outputId": "c68b64d0-81d1-4edb-c771-64f7531aca90"
      },
      "outputs": [
        {
          "output_type": "execute_result",
          "data": {
            "text/plain": [
              "[3, 4, 8, 9, 10, 1, 8, 2]"
            ]
          },
          "metadata": {},
          "execution_count": 154
        }
      ],
      "source": [
        "[i for i in p]"
      ]
    },
    {
      "cell_type": "code",
      "execution_count": null,
      "metadata": {
        "colab": {
          "base_uri": "https://localhost:8080/"
        },
        "id": "nYprqJjH0dn2",
        "outputId": "ef9cf035-9904-4237-f4f0-a41a402e2d5f"
      },
      "outputs": [
        {
          "output_type": "execute_result",
          "data": {
            "text/plain": [
              "<__main__.PositionalList.Position at 0x7f7bccc43850>"
            ]
          },
          "metadata": {},
          "execution_count": 155
        }
      ],
      "source": [
        "p.find_recursive(p.first(), 1)"
      ]
    },
    {
      "cell_type": "code",
      "execution_count": null,
      "metadata": {
        "colab": {
          "base_uri": "https://localhost:8080/"
        },
        "id": "ew2cRZJ70dn3",
        "outputId": "3c7c00c1-8d0c-404b-e32d-a35dd0560a98"
      },
      "outputs": [
        {
          "output_type": "execute_result",
          "data": {
            "text/plain": [
              "10"
            ]
          },
          "metadata": {},
          "execution_count": 156
        }
      ],
      "source": [
        "p.before(p.find_recursive(p.first(), 1)).element()"
      ]
    },
    {
      "cell_type": "code",
      "execution_count": null,
      "metadata": {
        "colab": {
          "base_uri": "https://localhost:8080/"
        },
        "id": "2VbTRJwO0dn3",
        "outputId": "eab60ae3-1037-48c2-a7ec-531eebed43d5"
      },
      "outputs": [
        {
          "output_type": "execute_result",
          "data": {
            "text/plain": [
              "<__main__.PositionalList.Position at 0x7f7bccce5850>"
            ]
          },
          "metadata": {},
          "execution_count": 157
        }
      ],
      "source": [
        "p.find_recursive(p.first(), 8)"
      ]
    },
    {
      "cell_type": "code",
      "execution_count": null,
      "metadata": {
        "colab": {
          "base_uri": "https://localhost:8080/"
        },
        "id": "x7ZSwCa40dn3",
        "outputId": "8c2d9053-15ce-49ee-ca49-bb1350751d90"
      },
      "outputs": [
        {
          "output_type": "execute_result",
          "data": {
            "text/plain": [
              "9"
            ]
          },
          "metadata": {},
          "execution_count": 158
        }
      ],
      "source": [
        "p.after(p.find_recursive(p.first(), 8)).element()"
      ]
    },
    {
      "cell_type": "code",
      "execution_count": null,
      "metadata": {
        "id": "M28M9Mrd0dn3"
      },
      "outputs": [],
      "source": [
        "p.find_recursive(p.first(), 99)  # Not found: None"
      ]
    },
    {
      "cell_type": "markdown",
      "metadata": {
        "id": "8glbR_Vy0dn3"
      },
      "source": [
        "### C-7.24\n",
        "\n",
        "Give a complete implementation of the stack ADT using a singly linked list that *includes a header sentinel*."
      ]
    },
    {
      "cell_type": "code",
      "execution_count": null,
      "metadata": {
        "id": "gyT_8NR90dn3"
      },
      "outputs": [],
      "source": [
        "class LinkedStackwithSentinel:\n",
        "    \"\"\"LIFO Stack implementatino using a singly linked list for storage\"\"\"\n",
        "    \n",
        "    class _Node:\n",
        "        __slots__ = '_element', '_next'\n",
        "        \n",
        "        def __init__(self, element, nxt):\n",
        "            self._element = element\n",
        "            self._next = nxt\n",
        "        \n",
        "    \n",
        "    def __init__(self):\n",
        "        self._header = self._Node(None, None)\n",
        "        self._header._next = None\n",
        "        self._size = 0\n",
        "        \n",
        "    def __len__(self):\n",
        "        return self._size\n",
        "    \n",
        "    def is_empty(self):\n",
        "        return self._size == 0\n",
        "    \n",
        "    def push(self, e):\n",
        "        new = self._Node(e, self._header._next)\n",
        "        self._header._next = new\n",
        "        self._size += 1\n",
        "        \n",
        "    def top(self):\n",
        "        if self.is_empty():\n",
        "            raise Empty('Stack is empty')\n",
        "        return self._header._next._element\n",
        "    \n",
        "    def pop(self):\n",
        "        if self.is_empty():\n",
        "            raise Empty('Stack is empty')\n",
        "        pop_node = self._header._next\n",
        "        self._header._next = pop_node._next\n",
        "        answer = pop_node._element\n",
        "        pop_node = None\n",
        "        self._size -= 1\n",
        "        return answer"
      ]
    },
    {
      "cell_type": "code",
      "execution_count": null,
      "metadata": {
        "id": "0_FV1HRc0dn4"
      },
      "outputs": [],
      "source": [
        "x = LinkedStackwithSentinel()"
      ]
    },
    {
      "cell_type": "code",
      "execution_count": null,
      "metadata": {
        "id": "amhKNN2z0dn4"
      },
      "outputs": [],
      "source": [
        "x.push(5)\n",
        "x.push(3)\n",
        "x.push(1)"
      ]
    },
    {
      "cell_type": "code",
      "execution_count": null,
      "metadata": {
        "colab": {
          "base_uri": "https://localhost:8080/"
        },
        "id": "PdnFxTPj0dn4",
        "outputId": "7402e14a-1a69-4641-85d7-813be61ffb9b"
      },
      "outputs": [
        {
          "output_type": "execute_result",
          "data": {
            "text/plain": [
              "1"
            ]
          },
          "metadata": {},
          "execution_count": 163
        }
      ],
      "source": [
        "x.top()"
      ]
    },
    {
      "cell_type": "code",
      "execution_count": null,
      "metadata": {
        "colab": {
          "base_uri": "https://localhost:8080/"
        },
        "id": "WsHq5jWP0dn4",
        "outputId": "be2e9531-746c-497c-b222-818ab9027ac5"
      },
      "outputs": [
        {
          "output_type": "stream",
          "name": "stdout",
          "text": [
            "1\n",
            "3\n",
            "5\n"
          ]
        }
      ],
      "source": [
        "print(x.pop())\n",
        "print(x.pop())\n",
        "print(x.pop())"
      ]
    },
    {
      "cell_type": "code",
      "execution_count": null,
      "metadata": {
        "colab": {
          "base_uri": "https://localhost:8080/"
        },
        "id": "1U0hJkNh0dn4",
        "outputId": "f1096e84-657d-4da1-8018-afd948053a28"
      },
      "outputs": [
        {
          "output_type": "stream",
          "name": "stdout",
          "text": [
            "proper error\n"
          ]
        }
      ],
      "source": [
        "try:\n",
        "    x.pop()\n",
        "    \n",
        "except Empty:\n",
        "    print(\"proper error\")"
      ]
    },
    {
      "cell_type": "markdown",
      "metadata": {
        "id": "0gd1Hwuo0dn4"
      },
      "source": [
        "### C-7.25\n",
        "\n",
        "Give a complete implementation of the queue ADT using a singly linked list that includes a header sentinel."
      ]
    },
    {
      "cell_type": "code",
      "execution_count": null,
      "metadata": {
        "id": "29hxHA5T0dn5"
      },
      "outputs": [],
      "source": [
        "class LinkedQueuewithSentinel:\n",
        "    \n",
        "    class _Node:\n",
        "        __slots__ = '_element', '_next'\n",
        "        \n",
        "        def __init__(self, element, nxt):\n",
        "            self._element = element\n",
        "            self._next = nxt\n",
        "    \n",
        "    def __init__(self):\n",
        "        self._header = self._Node(None, None)\n",
        "        self._header._next = None\n",
        "        self._tail = None\n",
        "        self._size = 0\n",
        "        \n",
        "    def __len__(self):\n",
        "        return self._size\n",
        "    \n",
        "    def is_empty(self):\n",
        "        return self._size == 0\n",
        "    \n",
        "    def first(self):\n",
        "        if self.is_empty():\n",
        "            raise Empty(\"Queue is empty\")\n",
        "        return self._header._next._element\n",
        "    \n",
        "    def dequeue(self):\n",
        "        \n",
        "        if self.is_empty():\n",
        "            raise Empty(\"Queue is empty\")\n",
        "        dequeue_node = self._header._next\n",
        "        self._header._next = dequeue_node._next\n",
        "        answer = dequeue_node._element\n",
        "        dequeue_node = None\n",
        "        self._size -= 1\n",
        "        if self.is_empty():\n",
        "            self._tail = None\n",
        "        return answer\n",
        "    \n",
        "    def enqueue(self, e):\n",
        "        \n",
        "        newest = self._Node(e, None)\n",
        "        if self.is_empty():\n",
        "            self._header._next = newest\n",
        "        else:\n",
        "            self._tail._next = newest\n",
        "        self._tail = newest\n",
        "        self._size += 1\n",
        "        "
      ]
    },
    {
      "cell_type": "code",
      "execution_count": null,
      "metadata": {
        "colab": {
          "base_uri": "https://localhost:8080/",
          "height": 165
        },
        "id": "JX93D6vu0dn5",
        "outputId": "fcdffbe0-86c7-4ccb-fd86-9b070ed1b4be"
      },
      "outputs": [
        {
          "output_type": "error",
          "ename": "NameError",
          "evalue": "ignored",
          "traceback": [
            "\u001b[0;31m---------------------------------------------------------------------------\u001b[0m",
            "\u001b[0;31mNameError\u001b[0m                                 Traceback (most recent call last)",
            "\u001b[0;32m<ipython-input-1-8121629e7125>\u001b[0m in \u001b[0;36m<module>\u001b[0;34m()\u001b[0m\n\u001b[0;32m----> 1\u001b[0;31m \u001b[0mx\u001b[0m \u001b[0;34m=\u001b[0m \u001b[0mLinkedQueuewithSentinel\u001b[0m\u001b[0;34m(\u001b[0m\u001b[0;34m)\u001b[0m\u001b[0;34m\u001b[0m\u001b[0;34m\u001b[0m\u001b[0m\n\u001b[0m",
            "\u001b[0;31mNameError\u001b[0m: name 'LinkedQueuewithSentinel' is not defined"
          ]
        }
      ],
      "source": [
        "x = LinkedQueuewithSentinel()"
      ]
    },
    {
      "cell_type": "code",
      "execution_count": null,
      "metadata": {
        "id": "0uGXW7tn0dn5"
      },
      "outputs": [],
      "source": [
        "x.enqueue(5)\n",
        "x.enqueue(4)\n",
        "x.enqueue(3)"
      ]
    },
    {
      "cell_type": "code",
      "execution_count": null,
      "metadata": {
        "id": "lkBmWmrs0dn5"
      },
      "outputs": [],
      "source": [
        "x.first()"
      ]
    },
    {
      "cell_type": "code",
      "execution_count": null,
      "metadata": {
        "id": "7Bxa4PvE0dn5"
      },
      "outputs": [],
      "source": [
        "x.dequeue()"
      ]
    },
    {
      "cell_type": "code",
      "execution_count": null,
      "metadata": {
        "colab": {
          "base_uri": "https://localhost:8080/"
        },
        "id": "uL4CMtQT0dn5",
        "outputId": "af8b72b8-781f-4528-9f99-e6b00ded7afa"
      },
      "outputs": [
        {
          "output_type": "execute_result",
          "data": {
            "text/plain": [
              "4"
            ]
          },
          "metadata": {},
          "execution_count": 171
        }
      ],
      "source": [
        "x.dequeue()"
      ]
    },
    {
      "cell_type": "code",
      "execution_count": null,
      "metadata": {
        "id": "rETxoaRG0dn6"
      },
      "outputs": [],
      "source": [
        "x.enqueue(10)"
      ]
    },
    {
      "cell_type": "code",
      "execution_count": null,
      "metadata": {
        "colab": {
          "base_uri": "https://localhost:8080/"
        },
        "id": "h6WEBxRn0dn6",
        "outputId": "13eaa4d0-7f60-4237-f0bd-e65362178535"
      },
      "outputs": [
        {
          "output_type": "execute_result",
          "data": {
            "text/plain": [
              "3"
            ]
          },
          "metadata": {},
          "execution_count": 173
        }
      ],
      "source": [
        "x.dequeue()"
      ]
    },
    {
      "cell_type": "code",
      "execution_count": null,
      "metadata": {
        "colab": {
          "base_uri": "https://localhost:8080/"
        },
        "id": "82-z8MqX0dn6",
        "outputId": "ce5ff77a-74fb-4f7a-e964-0b8f9239994a"
      },
      "outputs": [
        {
          "output_type": "execute_result",
          "data": {
            "text/plain": [
              "10"
            ]
          },
          "metadata": {},
          "execution_count": 174
        }
      ],
      "source": [
        "x.first()"
      ]
    },
    {
      "cell_type": "code",
      "execution_count": null,
      "metadata": {
        "colab": {
          "base_uri": "https://localhost:8080/"
        },
        "id": "iufblGAm0dn6",
        "outputId": "d57a9554-3c0e-4489-cab1-829315fe002e"
      },
      "outputs": [
        {
          "output_type": "execute_result",
          "data": {
            "text/plain": [
              "10"
            ]
          },
          "metadata": {},
          "execution_count": 175
        }
      ],
      "source": [
        "x.dequeue()"
      ]
    },
    {
      "cell_type": "code",
      "execution_count": null,
      "metadata": {
        "colab": {
          "base_uri": "https://localhost:8080/"
        },
        "id": "M7UuOmnI0dn6",
        "outputId": "240b40c4-2db5-45e3-a0f9-0074bda3718f"
      },
      "outputs": [
        {
          "output_type": "stream",
          "name": "stdout",
          "text": [
            "proper error\n"
          ]
        }
      ],
      "source": [
        "try:\n",
        "    x.dequeue()\n",
        "except Empty:\n",
        "    print(\"proper error\")"
      ]
    }
  ],
  "metadata": {
    "kernelspec": {
      "display_name": "Python 3",
      "language": "python",
      "name": "python3"
    },
    "language_info": {
      "codemirror_mode": {
        "name": "ipython",
        "version": 3
      },
      "file_extension": ".py",
      "mimetype": "text/x-python",
      "name": "python",
      "nbconvert_exporter": "python",
      "pygments_lexer": "ipython3",
      "version": "3.8.3"
    },
    "colab": {
      "name": "Chapitre7.ipynb",
      "provenance": [],
      "collapsed_sections": [
        "dDBb9H9r0wW3",
        "UTxWS3Xa0dnr"
      ]
    }
  },
  "nbformat": 4,
  "nbformat_minor": 0
}