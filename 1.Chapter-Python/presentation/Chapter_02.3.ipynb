{
 "cells": [
  {
   "cell_type": "markdown",
   "metadata": {},
   "source": [
    "# Chapter 02: Object-Oriented Programming\n",
    "\n",
    "\n",
    "## 2.3 Class Definitions\n",
    "A class serves as the primary means for abstraction in object-oriented programming. In Python, **every piece of data is represented as an instance of some class**.\n"
   ]
  },
  {
   "cell_type": "markdown",
   "metadata": {
    "pycharm": {
     "metadata": false,
     "name": "#%% md\n"
    }
   },
   "source": [
    "### 2.3.1 Example: CreditCard Class\n"
   ]
  },
  {
   "cell_type": "markdown",
   "metadata": {},
   "source": [
    "**All in Python are objects**"
   ]
  },
  {
   "cell_type": "code",
   "execution_count": 1,
   "metadata": {
    "pycharm": {
     "is_executing": false,
     "metadata": false,
     "name": "#%%\n"
    }
   },
   "outputs": [
    {
     "name": "stdout",
     "output_type": "stream",
     "text": [
      "list\n",
      "str\n",
      "dict\n"
     ]
    }
   ],
   "source": [
    "print(list().__class__.__name__)\n",
    "print(str().__class__.__name__)\n",
    "print(dict().__class__.__name__)"
   ]
  },
  {
   "cell_type": "code",
   "execution_count": 1,
   "metadata": {},
   "outputs": [
    {
     "data": {
      "text/plain": [
       "int"
      ]
     },
     "execution_count": 1,
     "metadata": {},
     "output_type": "execute_result"
    }
   ],
   "source": [
    "(1).__class__"
   ]
  },
  {
   "cell_type": "code",
   "execution_count": 2,
   "metadata": {},
   "outputs": [
    {
     "name": "stdout",
     "output_type": "stream",
     "text": [
      "int\n",
      "int\n",
      "<class 'builtin_function_or_method'>\n"
     ]
    }
   ],
   "source": [
    "a = 1\n",
    "print((1).__class__.__name__)\n",
    "print(a.__class__.__name__)\n",
    "print(sum.__class__)"
   ]
  },
  {
   "cell_type": "code",
   "execution_count": 4,
   "metadata": {},
   "outputs": [
    {
     "name": "stdout",
     "output_type": "stream",
     "text": [
      "type\n"
     ]
    }
   ],
   "source": [
    "print(list().__class__.__class__.__name__)"
   ]
  },
  {
   "cell_type": "markdown",
   "metadata": {},
   "source": [
    "For more general case, such user-defined functions and methods, please see: \n",
    "- Function are first class objects: https://people.duke.edu/~ccc14/sta-663/FunctionsSolutions.html\n",
    "- <http://www.idc-online.com/technical_references/pdfs/information_technology/Functions_as_Objects_and_Role_of_Objects_in_Python.pdf>\n",
    "- Method Resolution Order (MRO) <https://stackoverflow.com/questions/2010692/what-does-mro-do>"
   ]
  },
  {
   "cell_type": "code",
   "execution_count": 3,
   "metadata": {},
   "outputs": [
    {
     "name": "stdout",
     "output_type": "stream",
     "text": [
      "1 5.1\n"
     ]
    }
   ],
   "source": [
    "def my_function(a: int, b: float):\n",
    "    \n",
    "    def my_print() -> bool:\n",
    "        print(a,b)\n",
    "        return True\n",
    "    \n",
    "    return my_print\n",
    "\n",
    "my_func = my_function(1,5.1)\n",
    "\n",
    "a = my_func()"
   ]
  },
  {
   "cell_type": "markdown",
   "metadata": {
    "pycharm": {
     "metadata": false,
     "name": "#%% md\n"
    }
   },
   "source": [
    "**Self Identifier** \n",
    "\n",
    "A class provides a set of behaviors in the form of **member functions** (also known\n",
    "as methods), with implementations that are common to all instances of that class.\n",
    "A class also serves as a blueprint for its instances, effectively determining the way\n",
    "that state information for each instance is represented in the form of **attributes** (also\n",
    "known as **fields**, **instance variables**, or **data members**)\n",
    "\n",
    "The `self` identifier explicitly identifies the instance that a method is invoked in class.\n"
   ]
  },
  {
   "cell_type": "code",
   "execution_count": 5,
   "metadata": {
    "pycharm": {
     "is_executing": false,
     "metadata": false,
     "name": "#%%\n"
    }
   },
   "outputs": [],
   "source": [
    "class CreditCard:\n",
    "    \"\"\"A consumer credit card\"\"\"\n",
    "    \n",
    "    def __init__(self, customer, bank, acnt, limit):\n",
    "        \"\"\"Create a new credit card instance.\n",
    "        \n",
    "        The initial balance is zero.\n",
    "        \n",
    "        param customer: the name of the customer \n",
    "        param bank: the name of the bank\n",
    "        param acnt: the account identifier\n",
    "        param limit: credit limit\n",
    "        \"\"\"\n",
    "        \n",
    "        self._customer = customer\n",
    "        self._bank = bank\n",
    "        self._account = acnt\n",
    "        self._limit = limit\n",
    "        self._balance = 0\n",
    "        \n",
    "    def get_customer(self):\n",
    "        \"\"\"Return name of the customer\"\"\"\n",
    "        return self._customer\n",
    "    \n",
    "    def get_bank(self):\n",
    "        \"\"\"Return the bank's name.\"\"\"\n",
    "        return self._bank\n",
    "    \n",
    "    def get_account(self):\n",
    "        \"\"\"Return the card identifying number (typically stored as a string.\"\"\"\n",
    "        return self._account\n",
    "    \n",
    "    def get_limit(self):\n",
    "        \"\"\"Return current credit limit.\"\"\"\n",
    "        return self._limit\n",
    "    \n",
    "    def get_balance(self):\n",
    "        \"\"\"Return current balance.\"\"\"\n",
    "        return self._balance\n",
    "    \n",
    "    def charge(self, price: float) -> bool:\n",
    "        \"\"\"Charge given price to the card, assuming sufficient credit limit.\n",
    "        \n",
    "        Return True if charge was processed; False if charge was denied.\n",
    "        \"\"\"\n",
    "        \n",
    "        if price + self._balance > self._limit:\n",
    "            return False\n",
    "        else:\n",
    "            self._balance += price\n",
    "            return True\n",
    "    \n",
    "    def make_payment(self, amount):\n",
    "        \"\"\"Process customer payment that reduces balance.\"\"\"\n",
    "        self._balance -= amount "
   ]
  },
  {
   "cell_type": "markdown",
   "metadata": {
    "pycharm": {
     "metadata": false,
     "name": "#%% md\n"
    }
   },
   "source": [
    "Python interpreter automatically binds the instance upon which the method is invoked to the `self` parameter.\n"
   ]
  },
  {
   "cell_type": "markdown",
   "metadata": {},
   "source": [
    "### **The Constructor and Encapsulation**\n",
    "\n",
    "In class, `__init__` method works as the **constructor** of the class. Also, single leading underscore in the name of a data member, such as `_balance`, implies that it is intended as **nonpublic**. Users of a class should not directly access such members.\n",
    "\n",
    "For better encapsulation, it is mostly better to treat all data members as nonpublic and provide accessors, to provide a user of our class read-only access to a trait, and update methods for updating its members.\n"
   ]
  },
  {
   "cell_type": "code",
   "execution_count": 6,
   "metadata": {
    "pycharm": {
     "is_executing": false,
     "metadata": false,
     "name": "#%%\n"
    }
   },
   "outputs": [
    {
     "name": "stdout",
     "output_type": "stream",
     "text": [
      "<__main__.CreditCard object at 0x000001D816C89FC0>\n"
     ]
    }
   ],
   "source": [
    "cc = CreditCard('John Doe', 'Bank', '1234 5678', 1000)\n",
    "print(cc)"
   ]
  },
  {
   "cell_type": "markdown",
   "metadata": {},
   "source": [
    "**Error Checking**\n",
    "\n",
    "\n"
   ]
  },
  {
   "cell_type": "code",
   "execution_count": 16,
   "metadata": {},
   "outputs": [
    {
     "name": "stdout",
     "output_type": "stream",
     "text": [
      "~Num\n",
      "price should be number\n"
     ]
    },
    {
     "data": {
      "text/plain": [
       "False"
      ]
     },
     "execution_count": 16,
     "metadata": {},
     "output_type": "execute_result"
    }
   ],
   "source": [
    "from typing import TypeVar\n",
    "\n",
    "Num = TypeVar('Num', int, float)\n",
    "\n",
    "print(Num)\n",
    "def charge(price: float) -> bool:\n",
    "    \"\"\"Charge given price to the card, assuming sufficient credit limit.\n",
    "        \n",
    "    Return True if charge was processed; False if charge was denied.\n",
    "    \"\"\"\n",
    "    \n",
    "    assert isinstance(price,Num.__constraints__), \"price should be number\" \n",
    "    return True\n",
    "\n",
    "import numbers\n",
    "\n",
    "def charge_v1(price: float) -> bool:\n",
    "    \"\"\"Charge given price to the card, assuming sufficient credit limit.\n",
    "        \n",
    "    Return True if charge was processed; False if charge was denied.\n",
    "    \"\"\"\n",
    "    \n",
    "    assert isinstance(price,numbers.Number), \"price should be number\" \n",
    "    return True\n",
    "\n",
    "\n",
    "def charge_v2(price: float) -> bool:\n",
    "    \"\"\"Charge given price to the card, assuming sufficient credit limit.\n",
    "        \n",
    "    Return True if charge was processed; False if charge was denied.\n",
    "    \"\"\"\n",
    "    try:\n",
    "        val = int(price)\n",
    "    except : \n",
    "        print(\"price should be number\")\n",
    "        return False \n",
    "    return True\n",
    "\n",
    "def charge_v3(price: float) -> bool:\n",
    "    \"\"\"Charge given price to the card, assuming sufficient credit limit.\n",
    "        \n",
    "    Return True if charge was processed; False if charge was denied.\n",
    "    \"\"\"\n",
    "    if type(price) not in (int,float):\n",
    "        print(\"price should be number\")\n",
    "        return False \n",
    "    return True\n",
    "\n",
    "\n",
    "\n",
    "charge_v3(\"Bonjour\")"
   ]
  },
  {
   "cell_type": "code",
   "execution_count": 14,
   "metadata": {},
   "outputs": [
    {
     "name": "stdout",
     "output_type": "stream",
     "text": [
      "price should be number\n",
      "True\n"
     ]
    }
   ],
   "source": [
    "a= charge_v2(\"Bonjour\")\n",
    "\n",
    "print(a)"
   ]
  },
  {
   "cell_type": "markdown",
   "metadata": {},
   "source": [
    "**Testing**"
   ]
  },
  {
   "cell_type": "code",
   "execution_count": 9,
   "metadata": {},
   "outputs": [],
   "source": [
    "! code ./ch02/credit_card.py"
   ]
  },
  {
   "cell_type": "code",
   "execution_count": 18,
   "metadata": {},
   "outputs": [
    {
     "name": "stdout",
     "output_type": "stream",
     "text": [
      "Customer = John Bowman\n",
      "Bank = California Savings\n",
      "Account = 5391 0375 9387 5309\n",
      "Limit = 2500\n",
      "Balance = 136\n",
      "New balance = 36\n",
      "\n",
      "Customer = John Bowman\n",
      "Bank = California Federal\n",
      "Account = 3485 0399 3395 1954\n",
      "Limit = 3500\n",
      "Balance = 272\n",
      "New balance = 172\n",
      "New balance = 72\n",
      "\n",
      "Customer = John Bowman\n",
      "Bank = California Finance\n",
      "Account = 5391 0375 9387 5309\n",
      "Limit = 5000\n",
      "Balance = 408\n",
      "New balance = 308\n",
      "New balance = 208\n",
      "New balance = 108\n",
      "New balance = 8\n",
      "\n"
     ]
    }
   ],
   "source": [
    "! python ./ch02/credit_card.py"
   ]
  },
  {
   "cell_type": "markdown",
   "metadata": {
    "pycharm": {
     "metadata": false,
     "name": "#%% md\n"
    }
   },
   "source": [
    "### 2.3.2 Operator overloading and Python's Special Methods\n",
    "\n",
    "By default, operators can not work on classes unless special methods are defined. You can see detailed info at [here](https://docs.python.org/3/reference/datamodel.html#special-method-names). Python also supports non-operator overloads. For example, `str` invokes `__str__()` and `bool` invokes `__bool__()`. However, we should not carelessly assume that Python will manage all the implications. Defining `__eq__` will support syntax `a == b`, but it does not affect the evaluation of a syntax `a != b`, which should be defined by `__ne__`. In similar context, defining `__eq__` and `__lt__` does not imply semantics for a `a <= b `.\n",
    "\n",
    "\n",
    "![List of form](../images/Fig2.4.png)\n",
    "\n",
    "\n",
    "- When two or more methods in the same class have the same name but different parameters, it's called **Overloading**. \n",
    "- When the method signature (name and parameters) are the same in the superclass and the child class, it's called **Overriding**.\n"
   ]
  },
  {
   "cell_type": "markdown",
   "metadata": {},
   "source": [
    "### Example: Multidimensional Vector Class\n",
    "\n",
    "To demonstrate the use of operator overloading via special methods, we provide\n",
    "an implementation of a Vector class, representing the coordinates of a vector in a\n",
    "multidimensional space. For example, in a three-dimensional space, we might wish\n",
    "to represent a vector with coordinates <5,−2, 3>. Although it might be tempting to\n",
    "directly use a Python list to represent those coordinates, a list does not provide an\n",
    "appropriate abstraction for a geometric vector. In particular, if using lists, the expression [5, −2, 3] + [1, 4, 2] results in the list [5, −2, 3, 1, 4, 2]. When working\n",
    "with vectors, if u = <5,−2, 3> and v = <1, 4, 2>, one would expect the expression,\n",
    "u + v, to return a three-dimensional vector with coordinates <6, 2, 5>.\n"
   ]
  },
  {
   "cell_type": "code",
   "execution_count": 19,
   "metadata": {
    "pycharm": {
     "is_executing": false,
     "metadata": false,
     "name": "#%%\n"
    }
   },
   "outputs": [],
   "source": [
    "class Vector:\n",
    "    \"\"\"Represent a vector in a multidimensional space\"\"\"\n",
    "    \n",
    "    def __init__(self, d):\n",
    "        \"\"\"Create d-dimensional vector of zeros.\"\"\"\n",
    "        self._coords = [0] * d\n",
    "        self._dimension = d\n",
    "        \n",
    "    def __len__(self):\n",
    "        \"\"\"Return the dimension of the vector.\"\"\"\n",
    "        return self._dimension \n",
    "        #return len(self._coords)\n",
    "    \n",
    "    def __getitem__(self, j):\n",
    "        \"\"\"Return jth coordinate of vector.\"\"\"\n",
    "        return self._coords[j]\n",
    "    \n",
    "    def __setitem__(self, j, val):\n",
    "        \"\"\"Set jth coordinate of vector to given value.\"\"\"\n",
    "        self._coords[j] = val\n",
    "    \n",
    "    def __add__(self, other):\n",
    "        \"\"\"Return sum of two vectors.\"\"\"\n",
    "        if len(self) != len(other):\n",
    "            raise ValueError('dimensions must agree')\n",
    "        result = Vector(len(self))\n",
    "        for j in range(len(self)):\n",
    "            result[j] = self[j] + other[j]\n",
    "        return result\n",
    "    \n",
    "    def __eq__(self, other):\n",
    "        \"\"\"Return True if vectgor has same coordinates as other.\"\"\"\n",
    "        return self._coords == other._coords\n",
    "    \n",
    "    def __ne__(self, other):\n",
    "        \"\"\"Return True if vector differs from other.\"\"\"\n",
    "        return not self == other  # This rely on existing __eq__ definition\n",
    "    \n",
    "    def __str__(self):\n",
    "        \"\"\"Produce string representation of vector.\"\"\"\n",
    "        return '<' + str(self._coords)[1:-1] + '>'\n",
    "    \n",
    "    def __repr__(self):\n",
    "        \"\"\"For representation.\"\"\"\n",
    "        return '<-> ' + str(self._coords)[1:-1] + ' <->'"
   ]
  },
  {
   "cell_type": "code",
   "execution_count": 20,
   "metadata": {
    "pycharm": {
     "is_executing": false,
     "metadata": false,
     "name": "#%%\n"
    }
   },
   "outputs": [
    {
     "data": {
      "text/plain": [
       "<-> 0, 0, 10, 0, 0 <->"
      ]
     },
     "execution_count": 20,
     "metadata": {},
     "output_type": "execute_result"
    }
   ],
   "source": [
    "x = Vector(5)\n",
    "x[2] = 10\n",
    "x #ipython print the variable representation "
   ]
  },
  {
   "cell_type": "code",
   "execution_count": 22,
   "metadata": {},
   "outputs": [
    {
     "name": "stdout",
     "output_type": "stream",
     "text": [
      "<0, 0, 10, 0, 0>\n",
      "<0, 0, 10, 0, 0>\n",
      "<0, 0, 10, 0, 0>\n"
     ]
    }
   ],
   "source": [
    "print(f\"{x}\")\n",
    "print(f\"{x!s}\")\n",
    "print(x.__str__())"
   ]
  },
  {
   "cell_type": "code",
   "execution_count": 15,
   "metadata": {},
   "outputs": [
    {
     "name": "stdout",
     "output_type": "stream",
     "text": [
      "<-> 0, 0, 10, 0, 0 <->\n",
      "<-> 0, 0, 10, 0, 0 <->\n"
     ]
    }
   ],
   "source": [
    "print(f\"{x!r}\")\n",
    "print(x.__repr__())"
   ]
  },
  {
   "cell_type": "code",
   "execution_count": 23,
   "metadata": {
    "pycharm": {
     "is_executing": false,
     "metadata": false,
     "name": "#%%\n"
    }
   },
   "outputs": [
    {
     "data": {
      "text/plain": [
       "<-> 0, 0, 20, 0, 0 <->"
      ]
     },
     "execution_count": 23,
     "metadata": {},
     "output_type": "execute_result"
    }
   ],
   "source": [
    "x + x"
   ]
  },
  {
   "cell_type": "code",
   "execution_count": 24,
   "metadata": {},
   "outputs": [
    {
     "ename": "TypeError",
     "evalue": "unsupported operand type(s) for *: 'Vector' and 'Vector'",
     "output_type": "error",
     "traceback": [
      "\u001b[1;31m---------------------------------------------------------------------------\u001b[0m",
      "\u001b[1;31mTypeError\u001b[0m                                 Traceback (most recent call last)",
      "\u001b[1;32mc:\\Users\\ismail.berrada\\OneDrive - Université Mohammed VI Polytechnique\\course\\2021-2022\\Algorithm 2 CS\\current course\\1.Chapter-Python\\presentation\\Chapter_02.3.ipynb Cell 28'\u001b[0m in \u001b[0;36m<module>\u001b[1;34m\u001b[0m\n\u001b[1;32m----> <a href='vscode-notebook-cell:/c%3A/Users/ismail.berrada/OneDrive%20-%20Universit%C3%A9%20Mohammed%20VI%20Polytechnique/course/2021-2022/Algorithm%202%20CS/current%20course/1.Chapter-Python/presentation/Chapter_02.3.ipynb#ch0000024?line=0'>1</a>\u001b[0m x \u001b[39m*\u001b[39;49m x\n",
      "\u001b[1;31mTypeError\u001b[0m: unsupported operand type(s) for *: 'Vector' and 'Vector'"
     ]
    }
   ],
   "source": [
    "x * x  # Gives error since it is not defined through `__mul__`"
   ]
  },
  {
   "cell_type": "code",
   "execution_count": 25,
   "metadata": {},
   "outputs": [
    {
     "name": "stdout",
     "output_type": "stream",
     "text": [
      "<0, 0, 10, 0, 0> 2027605576144\n",
      "<1, 2, 13, 5, 6> 2027612886672\n"
     ]
    }
   ],
   "source": [
    "#modification of the object\n",
    "print(x, id(x))\n",
    "\n",
    "x += [1,2,3,5,6]\n",
    "\n",
    "print(x,id(x))\n"
   ]
  },
  {
   "cell_type": "markdown",
   "metadata": {
    "pycharm": {
     "is_executing": false,
     "metadata": false,
     "name": "#%%\n"
    }
   },
   "source": [
    "#### How to change Vector such as the addition update the object it self ?"
   ]
  },
  {
   "cell_type": "code",
   "execution_count": 26,
   "metadata": {},
   "outputs": [],
   "source": [
    "class Vector:\n",
    "    \"\"\"Represent a vector in a multidimensional space\"\"\"\n",
    "    \n",
    "    def __init__(self, d):\n",
    "        \"\"\"Create d-dimensional vector of zeros.\"\"\"\n",
    "        self._coords = [0] * d\n",
    "        \n",
    "    def __len__(self):\n",
    "        \"\"\"Return the dimension of the vector.\"\"\"\n",
    "        return len(self._coords)\n",
    "    \n",
    "    def __getitem__(self, j):\n",
    "        \"\"\"Return jth coordinate of vector.\"\"\"\n",
    "        return self._coords[j]\n",
    "    \n",
    "    def __setitem__(self, j, val):\n",
    "        \"\"\"Set jth coordinate of vector to given value.\"\"\"\n",
    "        self._coords[j] = val\n",
    "    \n",
    "    def __add__(self, other):\n",
    "        \"\"\"Return sum of two vectors.\"\"\"\n",
    "        if len(self) != len(other):\n",
    "            raise ValueError('dimensions must agree')\n",
    "        for j in range(len(self)):\n",
    "            self._coords[j] = self._coords[j] + other[j]\n",
    "        return self \n",
    "    \n",
    "    def __str__(self):\n",
    "        \"\"\"Produce string representation of vector.\"\"\"\n",
    "        return '<' + str(self._coords)[1:-1] + '>'\n",
    "    "
   ]
  },
  {
   "cell_type": "code",
   "execution_count": 27,
   "metadata": {},
   "outputs": [
    {
     "name": "stdout",
     "output_type": "stream",
     "text": [
      "<0, 0, 10, 0, 0>\n",
      "2027605584880 2027605584880\n",
      "<0, 0, 20, 0, 0>\n",
      "<0, 0, 20, 0, 0>\n",
      "2027605584880 2027605584880\n"
     ]
    }
   ],
   "source": [
    "x = Vector(5)\n",
    "x[2] = 10\n",
    "\n",
    "print(x)\n",
    "z = x \n",
    "\n",
    "print(id(z),id(x))\n",
    "z += x \n",
    "\n",
    "print(x)\n",
    "\n",
    "print(z)\n",
    "\n",
    "print(id(z),id(x))\n"
   ]
  },
  {
   "cell_type": "markdown",
   "metadata": {},
   "source": [
    "#### Duck typing\n",
    "\n",
    "Poet James Whitcomb Riley: \n",
    "\n",
    "- `when I see a bird that walks like a duck and swims like a duck and quacks like a duck, I call that bird a duck.`\n",
    "\n",
    "or shortly \n",
    "\n",
    "- `If it walks like a duck and it quacks like a duck, then it must be a duck`\n",
    "\n",
    "To determine whether an object can be used for a particular purpose, in duck typing, an object is of a given type if it has all methods and properties required by that type."
   ]
  },
  {
   "cell_type": "code",
   "execution_count": 19,
   "metadata": {},
   "outputs": [
    {
     "name": "stdout",
     "output_type": "stream",
     "text": [
      "[<class 'list'>, <class 'object'>]\n",
      "True\n",
      "False\n",
      "********List, Tuple and String\n",
      "True\n",
      "True\n",
      "True\n",
      "********Set and Dict\n",
      "False\n",
      "False\n",
      "********Vector\n",
      "False\n",
      "False\n"
     ]
    }
   ],
   "source": [
    "from typing import TypeVar, Sequence, Any, AnyStr, List\n",
    "# See the documentation in https://docs.python.org/3/library/typing.html\n",
    "\n",
    "\n",
    "MyN = TypeVar('MyN', int, float) #must be an integer or real\n",
    "\n",
    "print(type(list()).mro()) # type object resolution order\n",
    "\"\"\"This is equivalent to use the inspect module\n",
    "    \n",
    "    import inspect\n",
    "    inspect.getmro(list)\n",
    "\n",
    "\"\"\"\n",
    "\n",
    "print(isinstance(42, int))\n",
    "print(isinstance(42, float))\n",
    "\n",
    "print(\"********List, Tuple and String\")\n",
    "print(isinstance(list(),Sequence))\n",
    "print(isinstance(tuple(),Sequence))\n",
    "print(isinstance(str(),Sequence))\n",
    "\n",
    "print(\"********Set and Dict\")\n",
    "print(isinstance(set(),Sequence))\n",
    "print(isinstance(dict(),Sequence))\n",
    "\n",
    "print(\"********Vector\")\n",
    "print(isinstance(x,Sequence))\n",
    "print(isinstance(x,list))"
   ]
  },
  {
   "cell_type": "markdown",
   "metadata": {
    "pycharm": {
     "metadata": false,
     "name": "#%% md\n"
    }
   },
   "source": [
    "### 2.3.3 Iterators\n",
    "\n",
    "We have introduced the for-loop syntax beginning as:\n",
    "````python\n",
    "        for element in iterable:\n",
    "````\n",
    "and we noted that there are many types of objects in Python that qualify as being\n",
    "iterable. \n",
    "\n",
    "Basic container types, such as list, tuple, and set, qualify as iterable types.\n",
    "Furthermore, a string can produce an iteration of its characters, a dictionary can\n",
    "produce an iteration of its keys, and a file can produce an iteration of its lines.  User defined types may also support iteration. \n",
    "\n",
    "In Python, the mechanism for iteration is\n",
    "based upon the following conventions:\n",
    "- An iterator is an object that manages an iteration through a series of values. If\n",
    "**variable i**, identifies an iterator object, then each call to the built-in function\n",
    "**next(i)**, produces a subsequent element from the underlying series, with a\n",
    "**StopIteration exception raised** to indicate that there are no further elements.\n",
    "- An iterable is an object, obj, that produces an iterator via the syntax **iter(obj)**.\n"
   ]
  },
  {
   "cell_type": "code",
   "execution_count": 8,
   "metadata": {},
   "outputs": [
    {
     "name": "stdout",
     "output_type": "stream",
     "text": [
      "0\n",
      "1\n"
     ]
    },
    {
     "data": {
      "text/plain": [
       "0"
      ]
     },
     "execution_count": 8,
     "metadata": {},
     "output_type": "execute_result"
    }
   ],
   "source": [
    "it = iter(range(5))\n",
    "print(next(it))\n",
    "print(next(it))\n",
    "next(range(5).__iter__())"
   ]
  },
  {
   "cell_type": "code",
   "execution_count": 3,
   "metadata": {},
   "outputs": [
    {
     "name": "stdout",
     "output_type": "stream",
     "text": [
      "1\n",
      "2\n"
     ]
    }
   ],
   "source": [
    "l = [1,2,4,5]\n",
    "it = iter(l)\n",
    "print(next(it))\n",
    "print(next(it))"
   ]
  },
  {
   "cell_type": "markdown",
   "metadata": {},
   "source": [
    "\n",
    "For implementation, an **Iterator** for a collection provides one key behavior: It supports a special method named `__next__` that returns the next element of the collection, if any, or raises a `StopIteration` exception to indicate that there are no further elements."
   ]
  },
  {
   "cell_type": "code",
   "execution_count": 22,
   "metadata": {
    "pycharm": {
     "is_executing": false,
     "metadata": false,
     "name": "#%%\n"
    }
   },
   "outputs": [],
   "source": [
    "class SequenceIterator:\n",
    "    \"\"\"An iterator for any of Python's sequence types.\"\"\"\n",
    "    \n",
    "    def __init__(self, sequence: Sequence):\n",
    "        \"\"\"Create an iterator for the given sequence.\"\"\"\n",
    "        self._seq = sequence  # keep a reference to the underlying data\n",
    "        self._k = -1  # will increment to 0 on first call to next\n",
    "    \n",
    "    def __next__(self):\n",
    "        \"\"\"Return the next element, or else raise StopIteration error.\"\"\"\n",
    "        self._k += 1\n",
    "        if self._k < len(self._seq):\n",
    "            return(self._seq[self._k])\n",
    "        else:\n",
    "            raise StopIteration()\n",
    "        \n",
    "    def __iter__(self):\n",
    "        \"\"\"By convention, an iterator must return itself as an iterator.\"\"\"\n",
    "        return self"
   ]
  },
  {
   "cell_type": "code",
   "execution_count": 23,
   "metadata": {
    "pycharm": {
     "is_executing": false,
     "metadata": false,
     "name": "#%%\n"
    }
   },
   "outputs": [
    {
     "data": {
      "text/plain": [
       "<__main__.SequenceIterator at 0x1d486421030>"
      ]
     },
     "execution_count": 23,
     "metadata": {},
     "output_type": "execute_result"
    }
   ],
   "source": [
    "custom_iter = SequenceIterator([4, 2, 1])\n",
    "iter(custom_iter)"
   ]
  },
  {
   "cell_type": "code",
   "execution_count": 24,
   "metadata": {
    "pycharm": {
     "is_executing": false,
     "metadata": false,
     "name": "#%%\n"
    }
   },
   "outputs": [
    {
     "name": "stdout",
     "output_type": "stream",
     "text": [
      "5\n",
      "2\n",
      "1\n",
      "2\n",
      "7\n"
     ]
    }
   ],
   "source": [
    "for i in SequenceIterator([5, 2, 1, 2, 7]):\n",
    "    print(i)"
   ]
  },
  {
   "cell_type": "markdown",
   "metadata": {
    "pycharm": {
     "metadata": false,
     "name": "#%% md\n"
    }
   },
   "source": [
    "### Example: Range Class\n",
    "This example mimics Pthon's built-in `range` class. There is a big difference between Python 3's `range` and Python 2's range. Basically, Python 3's `range` works like a Python 2's `xrange`.\n",
    "\n",
    "The core difference between them is that Python 3's range employs **lazy evaluation**, which does not create a new list instance, which might be expensive if the list is huge, effectively repesenting the desired range of elements without storing them in memory.\n",
    "\n",
    "Python automatically supports iterator implementation if both `__len__` and `__getitem__` are defined."
   ]
  },
  {
   "cell_type": "code",
   "execution_count": 25,
   "metadata": {
    "pycharm": {
     "is_executing": false,
     "metadata": false,
     "name": "#%%\n"
    }
   },
   "outputs": [],
   "source": [
    "class Range:\n",
    "    \"\"\"A class that mimic's the built-in range class.\"\"\"\n",
    "    \n",
    "    def __init__(self, start, stop=None, step=1):\n",
    "        \"\"\"Initialize a Range Instance\n",
    "        Semantics is similar to built-in range class\n",
    "        \"\"\"\n",
    "        if step == 0:\n",
    "            raise ValueError('step cannot be 0')\n",
    "        \n",
    "        if stop is None:\n",
    "            start, stop = 0, start\n",
    "            \n",
    "        # calculate the effective length once\n",
    "        self._length = max(0, (stop - start + step -1) // step)\n",
    "        \n",
    "        # nned knowledge of start and step (but not step) to support _-getitem__\n",
    "        self._start = start\n",
    "        self._step = step\n",
    "        \n",
    "    def __len__(self):\n",
    "        \"\"\"Return number of entries in the range.\"\"\"\n",
    "        return self._length\n",
    "    \n",
    "    def __getitem__(self, k):\n",
    "        \"\"\"Return entry at index k (using standard interpretation if negative.)\"\"\"\n",
    "        if k < 0:\n",
    "            k += len(self)\n",
    "        \n",
    "        if not 0 <= k < self._length:\n",
    "            raise IndexError('index out of range')\n",
    "        \n",
    "        return self._start + k * self._step"
   ]
  },
  {
   "cell_type": "markdown",
   "metadata": {},
   "source": [
    "### 2.3.4 Generators\n",
    "\n",
    "The most convenient technique for creating iterators in Python\n",
    "is through the use of generators. \n",
    "- A generator is implemented with a syntax that is very similar to a function, but instead of returning values, a yield statement is executed to indicate each element of the series. \n",
    "\n",
    "As an example, consider the goal\n",
    "of determining all factors of a positive integer. For example, the number 100 has\n",
    "factors 1, 2, 4, 5, 10, 20, 25, 50, 100. A traditional function might produce and\n",
    "return a list containing all factors, implemented as:"
   ]
  },
  {
   "cell_type": "code",
   "execution_count": 27,
   "metadata": {},
   "outputs": [],
   "source": [
    "def factors(n):             # traditional function that computes factors\n",
    "  results = []              # store factors in a new list\n",
    "  for k in range(1,n+1):\n",
    "    if n % k == 0:          # divides evenly, thus k is a factor\n",
    "      results.append(k)     # add k to the list of factors\n",
    "  return results            # return the entire list"
   ]
  },
  {
   "cell_type": "markdown",
   "metadata": {},
   "source": [
    "In contrast, an implementation of a generator for computing those factors could be\n",
    "implemented as follows:"
   ]
  },
  {
   "cell_type": "code",
   "execution_count": 10,
   "metadata": {},
   "outputs": [],
   "source": [
    "def factors(n):             # generator that computes factors\n",
    "  for k in range(1,n+1):\n",
    "    if n % k == 0:          # divides evenly, thus k is a factor\n",
    "      yield k               # yield this factor as next result"
   ]
  },
  {
   "cell_type": "code",
   "execution_count": 22,
   "metadata": {},
   "outputs": [
    {
     "name": "stdout",
     "output_type": "stream",
     "text": [
      "1\n",
      "2\n",
      "5\n",
      "10\n",
      "1\n"
     ]
    }
   ],
   "source": [
    "a = iter(factors(10))\n",
    "print(next(a))\n",
    "print(next(a))\n",
    "print(next(a))\n",
    "print(next(a))\n",
    "\n",
    "a = iter(factors(10))\n",
    "print(next(a))\n"
   ]
  },
  {
   "cell_type": "code",
   "execution_count": 19,
   "metadata": {},
   "outputs": [
    {
     "name": "stdout",
     "output_type": "stream",
     "text": [
      "10\n"
     ]
    }
   ],
   "source": []
  },
  {
   "cell_type": "markdown",
   "metadata": {},
   "source": [
    "Notice use of the keyword yield rather than return to indicate a result. \n",
    "- This indicates to Python that we are defining a generator, rather than a traditional function. \n",
    "\n",
    "It is illegal to combine yield and return statements in the same implementation, other\n",
    "than a zero-argument return statement to cause a generator to end its execution. \n",
    "- If a programmer writes a loop such as for factor in factors(100):, an instance of our\n",
    "generator is created. For each iteration of the loop, Python executes our procedure until a yield statement indicates the next value. At that point, the procedure is temporarily interrupted, only to be resumed when another value is requested. When\n",
    "the flow of control naturally reaches the end of our procedure (or a zero-argument\n",
    "return statement), a StopIteration exception is automatically raised. "
   ]
  },
  {
   "cell_type": "code",
   "execution_count": 23,
   "metadata": {},
   "outputs": [],
   "source": [
    "import math\n",
    "\n",
    "def factors(n):             # generator that computes factors\n",
    "  k = 1\n",
    "  while k  < math.sqrt(n):          # while k < sqrt(n)\n",
    "    if n % k == 0:\n",
    "      yield k\n",
    "      yield n // k\n",
    "    k += 1\n",
    "  if k * k == n:            # special case if n is perfect square\n",
    "    yield k"
   ]
  },
  {
   "cell_type": "code",
   "execution_count": 29,
   "metadata": {},
   "outputs": [
    {
     "name": "stdout",
     "output_type": "stream",
     "text": [
      "1\n",
      "10\n",
      "2\n",
      "5\n",
      "1\n",
      "[1, 10, 2, 5]\n"
     ]
    }
   ],
   "source": [
    "a = iter(factors(10))\n",
    "print(next(a))\n",
    "print(next(a))\n",
    "print(next(a))\n",
    "print(next(a))\n",
    "\n",
    "a = iter(factors(10))\n",
    "print(next(a))\n",
    "\n",
    "l = list(factors(10))\n",
    "\n",
    "print(l)"
   ]
  },
  {
   "cell_type": "code",
   "execution_count": null,
   "metadata": {},
   "outputs": [],
   "source": []
  }
 ],
 "metadata": {
  "kernelspec": {
   "display_name": "Python 3",
   "language": "python",
   "name": "python3"
  },
  "language_info": {
   "codemirror_mode": {
    "name": "ipython",
    "version": 3
   },
   "file_extension": ".py",
   "mimetype": "text/x-python",
   "name": "python",
   "nbconvert_exporter": "python",
   "pygments_lexer": "ipython3",
   "version": "3.10.9 (tags/v3.10.9:1dd9be6, Dec  6 2022, 20:01:21) [MSC v.1934 64 bit (AMD64)]"
  },
  "pycharm": {
   "stem_cell": {
    "cell_type": "raw",
    "metadata": {
     "collapsed": false
    },
    "source": []
   }
  },
  "vscode": {
   "interpreter": {
    "hash": "e743294b9eb9579c1dbfa440bf1529440bbf17bdd5f490c626f9a31cee6b9bc4"
   }
  }
 },
 "nbformat": 4,
 "nbformat_minor": 0
}
