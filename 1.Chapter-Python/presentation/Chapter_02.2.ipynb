{
 "cells": [
  {
   "cell_type": "markdown",
   "metadata": {
    "collapsed": true,
    "pycharm": {
     "name": "#%% md\n"
    }
   },
   "source": [
    "# Chapter 02: Object-Oriented Programming\n"
   ]
  },
  {
   "cell_type": "markdown",
   "metadata": {},
   "source": [
    "## 2.2 Software Development\n",
    "Traditional software development involves several phases. The three major steps are:\n",
    "\n",
    "1. Design\n",
    "2. Implementation\n",
    "3. Testing and Debugging\n",
    "\n",
    "\n",
    "### 2.2.1 Design\n",
    "\n",
    "The design step is perhaps the most important phase in the process of developing software as we decide:\n",
    "* how to divide the workings of our program into classes, \n",
    "* how these classes will interact, \n",
    "* what data each will store, and \n",
    "* what actions each will perform. \n",
    "\n",
    "There are some rules of thumb that we can apply when determining how to design our classes:\n",
    "\n",
    "- **Responsibilities**: Divide the work into different actors, each with a different responsibility. Try to describe responsibilities using action verb (**I need a class to do XXXX**).\n",
    "\n",
    "&NewLine;\n",
    "\n",
    "- **Independence**: Define the work for each class to be as independent from other classes as possible. \n",
    "    <br/>\n",
    "\n",
    "  - Subdivide responsibilities between classes so that\n",
    "each class has autonomy over some aspect of the program. \n",
    "  - Give data (as instance variables) to the class that has jurisdiction over the actions that require access to this data.\n",
    "\n",
    "&NewLine;\n",
    "\n",
    "\n",
    "- **Behaviors**: Define the behaviors for each class carefully and precisely, so that the consequences of each action performed by a class will be well understood by other classes that interact with it. \n",
    "\n",
    "  - These behaviors will define the methods that this class performs, and the set of behaviors for a class are the interface to the class, as these form the means for other pieces of code to interact with objects from the class.\n",
    "\n",
    "\n",
    "\n",
    "A common tool for developing an initial high-level design for a project is the\n",
    "use of CRC cards that  subdivide the work required of a program. \n",
    "\n",
    "<p align=\"center\">\n",
    "<img src=\"..\\images\\Fig2.2.1.png\" alt=\"Cards CRC\" width=\"600\" class=\"center\"/>\n",
    "</p>\n",
    "\n",
    "\n",
    "- The main idea behind this tool is to have each card represent a component, which will ultimately become a\n",
    "class in the program. \n",
    "&NewLine;\n",
    "\n",
    "  - We write the name of each component on the top of an index card. \n",
    "  - On the left-hand side of the card, we begin writing the responsibilities for this component. \n",
    "  - On the right-hand side, we list the collaborators for this component, that is, the other components that this component will have to interact with to perform its duties.\n",
    "\n",
    "&NewLine;\n",
    "\n",
    "- In using index cards for this process (rather\n",
    "than larger pieces of paper), we are relying on the fact that each component should\n",
    "have a small set of responsibilities and collaborators. Enforcing this rule helps keep\n",
    "the individual classes manageable.\n",
    "\n",
    "\n",
    "As the design takes form, a standard approach to explain and document the\n",
    "design is the use of UML (Unified Modeling Language) diagrams to express the\n",
    "organization of a program. UML diagrams are a standard visual notation to express\n",
    "object-oriented software designs. Several computer-aided tools are available to\n",
    "build UML diagrams. \n",
    "\n",
    "<p align=\"center\">\n",
    "<img src=\"..\\images\\Fig2.3.png\" alt=\"Cards CRC\" width=\"600\" class=\"center\"/>\n",
    "</p>\n",
    "\n",
    "<p align=\"center\">\n",
    "<img src=\"..\\images\\Fig2.3.1.png\" alt=\"Cards CRC\" width=\"600\" class=\"center\"/>\n",
    "</p>\n",
    "\n",
    "\n",
    "### 2.2.2 Coding Style and Documentation\n",
    "\n",
    "Programs should be made **easy to read and understand**: \n",
    "\n",
    "- Good programmers should therefore be mindful of their coding style, and develop a style that communicates\n",
    "the important aspects of a program’s design for both humans and computers. \n",
    "- Conventions for coding style tend to vary between different programming communities. The official Style Guide for Python Code is available online at : PEP-8\n",
    "http://www.python.org/dev/peps/pep-0008/\n",
    "\n",
    "\n",
    "The main principles that we adopt are as follows:\n",
    "\n",
    "- **Python code blocks are typically indented by 4 spaces**. However, to avoid\n",
    "having our code fragments overrun the book’s margins, **we use 2 spaces** for\n",
    "each level of indentation. \n",
    "\n",
    "&NewLine;\n",
    "\n",
    "- It is strongly recommended that **tabs be avoided**, as\n",
    "tabs are displayed with differing widths across systems, and tabs and spaces\n",
    "are not viewed as identical by the Python interpreter. Many Python-aware\n",
    "editors will automatically replace tabs with an appropriate number of spaces.\n",
    "\n",
    "&NewLine;\n",
    "\n",
    "- Use **meaningful names for identifiers**. Try to choose names that can be read\n",
    "aloud, and choose names that reflect the action, responsibility, or data each\n",
    "identifier is naming.\n",
    "    - **Classes (other than Python’s built-in classes) should have a name that serves as a singular noun, and should be capitalized** (e.g., Date rather than date or Dates). When multiple words are concatenated to form a class name, they should follow the so-called “CamelCase” convention in which the first letter of each word is capitalized (e.g., CreditCard).\n",
    "\n",
    "  &NewLine;\n",
    "\n",
    "    - **Functions, including member functions of a class, should be lowercase**. If multiple words are combined, they should be separated by underscores (e.g., make_payment). The name of a function should typically  be a verb that describes its affect. However, if the only purpose of the function is to return a value, the function name may be a noun that describes the value (e.g., sqrt rather than calculate_sqrt).\n",
    "  \n",
    "  &NewLine;\n",
    "  \n",
    "    - **Names that identify an individual object (e.g., a parameter, instance variable, or local variable) should be a lowercase noun (e.g., price)**. Occasionally, we stray from this rule when using a single uppercase letter to designate the name of a data structures (such as tree T).\n",
    "\n",
    "  &NewLine;\n",
    "\n",
    "    - **Identifiers that represent a value considered to be a constant are traditionally identified using all capital letters** and with underscores to separate words (e.g., MAX_SIZE).\n",
    "  \n",
    "  &NewLine;\n",
    "\n",
    "    - **For encapsulation, identifiers in any context that begin with a single leading underscore (e.g., secret)** are intended to suggest that they are only for “internal” use to a class or module, and not part of a public interface. Python provides only loose support for encapsulation. Those conventions are reinforced by the intentional omission of those members from automatically generated documentation.\n",
    "\n",
    "&NewLine;\n",
    "\n",
    "- Use **comments that add meaning** to a program and explain ambiguous or\n",
    "confusing constructs. In-line comments are good for quick explanations;\n",
    "they are indicated in Python following the # character, as in\n",
    "```python\n",
    "        >>>> if n % 2 == 1: # n is odd\n",
    "```\n",
    "- Python provides integrated support for embedding formal documentation directly\n",
    "in source code using a mechanism known as a **docstring**.\n",
    "```python\n",
    "    def scale(data, factor):\n",
    "        '''Multiply all entries of numeric data list by the given factor.'''\n",
    "        for j in range(len(data)):\n",
    "            data[j] *= factor\n",
    "```\n",
    "\n"
   ]
  },
  {
   "cell_type": "code",
   "execution_count": 1,
   "metadata": {},
   "outputs": [],
   "source": [
    "def scale(data, factor):\n",
    "    '''Multiply all entries of numeric data list by the given factor.\n",
    "    \n",
    "    data: an instance of any mutable sequence type (such as a list)\n",
    "    containing numeric elements\n",
    "    \n",
    "    factor: a number that serves as the multiplicative factor for scaling\n",
    "    '''\n",
    "    for j in range(len(data)):\n",
    "        data[j] *= factor"
   ]
  },
  {
   "cell_type": "code",
   "execution_count": 2,
   "metadata": {},
   "outputs": [
    {
     "data": {
      "text/plain": [
       "<function __main__.scale(data, factor)>"
      ]
     },
     "execution_count": 2,
     "metadata": {},
     "output_type": "execute_result"
    }
   ],
   "source": [
    "scale"
   ]
  },
  {
   "cell_type": "code",
   "execution_count": 2,
   "metadata": {},
   "outputs": [],
   "source": [
    "def my_function_test(a: int, b: float) -> None:\n",
    "    \"\"\"My function test is used as the first test of docstring\n",
    "\n",
    "    Args:\n",
    "        a (int): the first operand\n",
    "        b (float): the second operand\n",
    "    \"\"\"\n",
    "    x = a + b\n",
    "    print(x)\n",
    "     "
   ]
  },
  {
   "cell_type": "code",
   "execution_count": 3,
   "metadata": {},
   "outputs": [
    {
     "name": "stdout",
     "output_type": "stream",
     "text": [
      "Help on function my_function_test in module __main__:\n",
      "\n",
      "my_function_test(a: int, b: float) -> None\n",
      "    My function test is used as the first test of docstring\n",
      "    \n",
      "    Args:\n",
      "        a (int): the first operand\n",
      "        b (float): the second operand\n",
      "\n"
     ]
    }
   ],
   "source": [
    "help(my_function_test)"
   ]
  },
  {
   "cell_type": "markdown",
   "metadata": {},
   "source": [
    "### 2.2.3 Testing and Debugging\n",
    "\n",
    "Testing is the process of experimentally checking the correctness of a program,\n",
    "while debugging is the process of tracking the execution of a program and discovering the errors in it.\n",
    "\n",
    "**Testing**: A careful testing plan is an essential part of writing a program.\n",
    "\n",
    "While verifying the correctness of a program over all possible inputs is usually infeasible, we should\n",
    "aim at executing the program on a representative subset of inputs. At the very\n",
    "minimum, we should make sure that every method of a class is tested at least once\n",
    "(method coverage). Even better, each code statement in the program should be\n",
    "executed at least once (statement coverage).\n",
    "\n",
    "Programs often tend to fail on special cases of the input. Such cases need to be\n",
    "carefully identified and tested. For example, when testing a method that sorts (that\n",
    "is, puts in order) a sequence of integers, we should consider the following inputs:\n",
    "- The sequence has zero length (no elements).\n",
    "- The sequence has one element.\n",
    "- All the elements of the sequence are the same.\n",
    "- The sequence is already sorted.\n",
    "- The sequence is reverse sorted.\n",
    "\n",
    "\n",
    "**Debugging** : If the errors persist \n",
    "\n",
    "The simplest debugging technique consists of using print statements to track the\n",
    "values of variables during the execution of the program. A problem with this approach is that eventually the print statements need to be removed or commented\n",
    "out, so they are not executed when the software is finally released.\n",
    "\n",
    "A better approach is to run the program within a debugger, which is a specialized environment for controlling and monitoring the execution of a program. The\n",
    "basic functionality provided by a debugger is the insertion of breakpoints within\n",
    "the code. When the program is executed within the debugger, it stops at each\n",
    "breakpoint. While the program is stopped, the current value of variables can be\n",
    "inspected."
   ]
  }
 ],
 "metadata": {
  "kernelspec": {
   "display_name": "Python 3",
   "language": "python",
   "name": "python3"
  },
  "language_info": {
   "codemirror_mode": {
    "name": "ipython",
    "version": 3
   },
   "file_extension": ".py",
   "mimetype": "text/x-python",
   "name": "python",
   "nbconvert_exporter": "python",
   "pygments_lexer": "ipython3",
   "version": "3.10.9 (tags/v3.10.9:1dd9be6, Dec  6 2022, 20:01:21) [MSC v.1934 64 bit (AMD64)]"
  },
  "pycharm": {
   "stem_cell": {
    "cell_type": "raw",
    "metadata": {
     "collapsed": false
    },
    "source": []
   }
  },
  "vscode": {
   "interpreter": {
    "hash": "e743294b9eb9579c1dbfa440bf1529440bbf17bdd5f490c626f9a31cee6b9bc4"
   }
  }
 },
 "nbformat": 4,
 "nbformat_minor": 0
}
