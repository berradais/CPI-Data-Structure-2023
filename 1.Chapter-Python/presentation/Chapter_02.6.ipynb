{
 "cells": [
  {
   "cell_type": "markdown",
   "metadata": {
    "pycharm": {
     "metadata": false,
     "name": "#%% md\n"
    }
   },
   "source": [
    "# Chapter 02: Object-Oriented Programming\n",
    "\n",
    "## 2.6 Shallow and Deep Copying\n",
    "We emphasized that an assignment statement `foo = bar` makes the name `foo` an **alias** for the object identified as `bar`. In this section, we consider the task of making an **copy** of an object, rather than alias. This is necessary in applications when we want to subsequently modify either the original or the copy in an independent manner.\n",
    "\n",
    "Consider a scenario in which we manage various lists of colors, with each color represented by an instance of a presumed `color` class. We let identifier `warmtones` denote an existing list of such colors. In this application, we wish to create a new list named `palette`, which is a copy of `warmtones` list. However, we want to subsequently be able to add additional colors to `palette`, or to modify or remove some of the existing colors, without affecting the contents of `warmwtones`. If we were to exectue the command\n",
    "\n",
    "```python\n",
    "palette = warmtones\n",
    "```\n",
    "\n",
    "this creates an alias. No new list is created; instead the new identifier `palette` references the original list.\n",
    "\n",
    "Unfortunately, this does not meet our desired criteria, because if we subsequently add or remove colors from `palette`, we modify the list identified as `warmtones`.\n",
    "\n",
    "We can instead create a new instance of the `list` class by using the syntax:\n",
    "\n",
    "```python\n",
    "palette = list(warmtones)\n",
    "``` \n",
    "\n",
    "In this case, we explicitly call the `list` constructor, sending the first list as a parameter. This cause a new list to be created; however it is what is known as a **shallow copy**. The  new list is initialized so that its contents are precisely the same as the original sequence. However, Python's list are **referential**, and so the new list represents a sequnce of references to the same elements as in the first.\n",
    "\n",
    "This is a better situation than our first attempt, as we can legitimately add or remove elements from the `palette` without affecting `warmtones`. However, if we edit a `color` instance from the `palette` list, we effectively change the contents of `wamtones`. Although `palette` and `wamtones` are distinct list, there remains indirect aliasing, for example, with `palette[0]` and `warmtones[0]` as aliases for the same color instance.\n",
    "\n",
    "We prefer that `palette` be what is known as a **deep copy** of `warmtones`. In a deep copy, the new copy references its own *copies* of those objects referenced by the original version.\n",
    "\n",
    "#### Python's copy Module\n",
    "To create a deep copy, we could populate our list by explicitly making copies of the original instances, but this requires that we know how to make copies of colors (rather than aliasing). Python provides a very convenient module, named `copy`, that can produce both shallow copies and deep copies of arbitrary objects.\n",
    "\n",
    "This module supports two functions: the `copy` function create a shallow copy of its argument, and the `deepcopy` function creates a deep copy of its argument. After importing the module, we may create a deep copy for our example, using the command:\n",
    "\n",
    "```python\n",
    "palette = copy.deepcopy(warmtones)\n",
    "```"
   ]
  }
 ],
 "metadata": {
  "kernelspec": {
   "display_name": "Python 3",
   "language": "python",
   "name": "python3"
  },
  "language_info": {
   "codemirror_mode": {
    "name": "ipython",
    "version": 2
   },
   "file_extension": ".py",
   "mimetype": "text/x-python",
   "name": "python",
   "nbconvert_exporter": "python",
   "pygments_lexer": "ipython2",
   "version": "3.8.5"
  },
  "pycharm": {
   "stem_cell": {
    "cell_type": "raw",
    "metadata": {
     "collapsed": false
    },
    "source": []
   }
  }
 },
 "nbformat": 4,
 "nbformat_minor": 0
}
