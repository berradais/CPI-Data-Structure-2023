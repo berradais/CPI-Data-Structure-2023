{
 "cells": [
  {
   "cell_type": "markdown",
   "metadata": {},
   "source": [
    "### Chap2 Object-Oriented Programming"
   ]
  },
  {
   "cell_type": "code",
   "execution_count": 1,
   "metadata": {
    "ExecuteTime": {
     "end_time": "2019-06-28T04:23:30.079620Z",
     "start_time": "2019-06-28T04:23:30.071704Z"
    }
   },
   "outputs": [],
   "source": [
    "import numbers\n",
    "import time\n",
    "from math import sqrt\n",
    "from abc import ABCMeta, abstractmethod\n",
    "from typing import TypeVar, Union, Any\n",
    "\n",
    "from random import randint\n",
    "import matplotlib.pyplot as plt\n",
    "%matplotlib inline\n",
    "\n",
    "\n",
    "Num = TypeVar('Num', int, float)"
   ]
  },
  {
   "cell_type": "markdown",
   "metadata": {},
   "source": [
    "#### Reinforcement"
   ]
  },
  {
   "cell_type": "markdown",
   "metadata": {},
   "source": [
    "##### R-2.4\n",
    "Write a Python class, Flower, that has three instance variables of type str,\n",
    "int, and float, that respectively represent the name of the flower, its num-\n",
    "ber of petals, and its price. Your class must include a constructor method\n",
    "that initializes each variable to an appropriate value, and your class should\n",
    "include methods for setting the value of each type, and retrieving the value\n",
    "of each type.\n"
   ]
  },
  {
   "cell_type": "code",
   "execution_count": 28,
   "metadata": {},
   "outputs": [],
   "source": []
  },
  {
   "cell_type": "markdown",
   "metadata": {
    "ExecuteTime": {
     "end_time": "2019-06-23T00:55:12.339373Z",
     "start_time": "2019-06-23T00:55:12.334137Z"
    }
   },
   "source": [
    "Note that when we write our own class, we usually write the docstring and type at the end, so that the automatically generated documentation can be obtained through the `help(Flower)` command. However, for the convenience of solving the problem, we will sometimes omit it below. "
   ]
  },
  {
   "cell_type": "markdown",
   "metadata": {},
   "source": [
    "##### R-2.5&R-2.6&2.7\n",
    "Consider the credit card class below "
   ]
  },
  {
   "cell_type": "code",
   "execution_count": 30,
   "metadata": {},
   "outputs": [],
   "source": [
    "class CreditCard:\n",
    "  \"\"\"A consumer credit card.\"\"\"\n",
    "  \n",
    "  def __init__(self, customer, bank, acnt, limit):\n",
    "    \"\"\"Create a new credit card instance.\n",
    "\n",
    "    The initial balance is zero.\n",
    "\n",
    "    customer  the name of the customer (e.g., 'John Bowman')\n",
    "    bank      the name of the bank (e.g., 'California Savings')\n",
    "    acnt      the acount identifier (e.g., '5391 0375 9387 5309')\n",
    "    limit     credit limit (measured in dollars)\n",
    "    \"\"\"\n",
    "    self._customer = customer\n",
    "    self._bank = bank\n",
    "    self._account = acnt\n",
    "    self._limit = limit\n",
    "    self._balance = 0\n",
    "\n",
    "  def get_customer(self):\n",
    "    \"\"\"Return name of the customer.\"\"\"\n",
    "    return self._customer\n",
    "    \n",
    "  def get_bank(self):\n",
    "    \"\"\"Return the bank's name.\"\"\"\n",
    "    return self._bank\n",
    "\n",
    "  def get_account(self):\n",
    "    \"\"\"Return the card identifying number (typically stored as a string).\"\"\"\n",
    "    return self._account\n",
    "\n",
    "  def get_limit(self):\n",
    "    \"\"\"Return current credit limit.\"\"\"\n",
    "    return self._limit\n",
    "\n",
    "  def get_balance(self):\n",
    "    \"\"\"Return current balance.\"\"\"\n",
    "    return self._balance\n",
    "\n",
    "  def charge(self, price):\n",
    "    \"\"\"Charge given price to the card, assuming sufficient credit limit.\n",
    "\n",
    "    Return True if charge was processed; False if charge was denied.\n",
    "    \"\"\"\n",
    "    if price + self._balance > self._limit:  # if charge would exceed limit,\n",
    "      return False                           # cannot accept charge\n",
    "    else:\n",
    "      self._balance += price\n",
    "      return True\n",
    "\n",
    "  def make_payment(self, amount):\n",
    "    \"\"\"Process customer payment that reduces balance.\"\"\"\n",
    "    self._balance -= amount"
   ]
  },
  {
   "cell_type": "markdown",
   "metadata": {},
   "source": [
    "R-2.5: \n",
    "- Revise the charge method and make payment methods of the CreditCard class to ensure that the caller sends a number  as a parameter.\n",
    "\n",
    "\n",
    "R-2.6: \n",
    "- If the parameter to the make payment method of the CreditCard class\n",
    "were a negative number, that would have the effect of raising the balance\n",
    "on the account. Revise the implementation so that it raises a ValueError if\n",
    "a negative value is sent.\n",
    "\n",
    "R-2.7:\n",
    "- The CreditCard class initializes the balance of a new account to zero. Modify that class so that a new account can be given a nonzero balance using an optional fifth parameter to the constructor. The\n",
    "four-parameter constructor syntax should continue to produce an account\n",
    "with zero balance."
   ]
  },
  {
   "cell_type": "code",
   "execution_count": null,
   "metadata": {},
   "outputs": [],
   "source": []
  },
  {
   "cell_type": "code",
   "execution_count": 32,
   "metadata": {},
   "outputs": [],
   "source": [
    "c = CreditCard(\"name\", \"SSS\", acnt=\"4444\",limit=1000,balance=100)\n",
    "c.make_payment(30)"
   ]
  },
  {
   "cell_type": "markdown",
   "metadata": {},
   "source": [
    "Note that here we are nothing more than adding an anomaly detection. The parameters given by the detection are not numbers. Here, for the two detections, we give two different methods, `isinstance(price, (int, float, complex))` and `isinstance(amount, numbers.Number)`, both are acceptable, refer to [here](https://stackoverflow.com/questions/11204789/how-to-properly-use-pythons-isinstance-to-check-if- a-variable-is-a-number). "
   ]
  },
  {
   "cell_type": "markdown",
   "metadata": {},
   "source": [
    "##### R-2.9 -> R-2.15\n",
    "\n",
    "The main thing is to define a `Vector` class and implement some operations on the vector.\n",
    "\n",
    "Note the following method of using type hint inside the class, refer to [Type of the same class inside the class](https://github.com/python/mypy/issues/3661)"
   ]
  },
  {
   "cell_type": "code",
   "execution_count": 34,
   "metadata": {
    "ExecuteTime": {
     "end_time": "2019-06-23T04:03:17.929090Z",
     "start_time": "2019-06-23T04:03:17.894714Z"
    }
   },
   "outputs": [],
   "source": []
  },
  {
   "cell_type": "markdown",
   "metadata": {},
   "source": [
    "##### R-2.16\n",
    "Our Range class, from Section 2.3.5, relies on the formula\n",
    "max(0, (stop − start + step − 1) // step)\n",
    "to compute the number of elements in the range. It is not immediately evident why this formula provides the correct calculation, even if assuming\n",
    "a positive step size. Justify this formula, in your own words."
   ]
  },
  {
   "cell_type": "markdown",
   "metadata": {},
   "source": [
    "$$max(0, (stop - start + step - 1) // step)$$\n",
    "Simplify it, the previous 1 can be regarded as the first value, \n",
    "$$max(0, 1 + (stop - start - 1) // step)$$\n",
    "After that, $(stop - start) // step$ should have been added, but considering that it does not include the value at `stop`, considering that the minimum step size is 1 (must be an integer), the actual termination The point is `stop-1`, so add $(stop - start - 1) // step$ "
   ]
  },
  {
   "cell_type": "markdown",
   "metadata": {},
   "source": [
    "##### R-2.18\n",
    "Give a short fragment of Python code that uses the progression classes\n",
    "from Section 2.4.2 to find the 8 th value of a Fibonacci progression that\n",
    "starts with 2 and 2 as its first two values."
   ]
  },
  {
   "cell_type": "code",
   "execution_count": 35,
   "metadata": {
    "ExecuteTime": {
     "end_time": "2019-06-28T04:17:17.303449Z",
     "start_time": "2019-06-28T04:17:17.283614Z"
    }
   },
   "outputs": [],
   "source": [
    "# code in 2.4.2\n",
    "class Progression:\n",
    "    def __init__(self, start=0):\n",
    "        self._current = start\n",
    "    \n",
    "    def _advance(self):\n",
    "        self._current += 1\n",
    "\n",
    "    def __next__(self):\n",
    "        if self._current is None:\n",
    "            raise StopIteration\n",
    "        else:\n",
    "            answer = self._current\n",
    "            self._advance()\n",
    "            return answer\n",
    "\n",
    "    def __iter__(self):\n",
    "        return self\n",
    "\n",
    "    def print_progression(self, n):\n",
    "        print(' '.join(str(next(self)) for i in range(n)))\n",
    "\n",
    "\n",
    "class FibonacciProgression(Progression):\n",
    "    def __init__(self, first=0, second=1):\n",
    "        # initialize base class\n",
    "        # start progression at first\n",
    "        super().__init__(first)\n",
    "        self._prev = second - first\n",
    "    \n",
    "    def _advance(self):\n",
    "        self._prev, self._current = self._current, self._current + self._prev"
   ]
  },
  {
   "cell_type": "code",
   "execution_count": 36,
   "metadata": {
    "ExecuteTime": {
     "end_time": "2019-06-28T02:19:05.230116Z",
     "start_time": "2019-06-28T02:19:05.220147Z"
    }
   },
   "outputs": [
    {
     "name": "stdout",
     "output_type": "stream",
     "text": [
      "2 2 4 6 10 16 26 42\n"
     ]
    }
   ],
   "source": []
  },
  {
   "cell_type": "markdown",
   "metadata": {},
   "source": [
    "From this, the answer to the question is 42 (appears, the ultimate answer to the universe :-) "
   ]
  },
  {
   "cell_type": "markdown",
   "metadata": {},
   "source": [
    "##### R-2.19\n",
    "When using the ArithmeticProgression class of Section 2.4.2 with an increment of 128 and a start of 0, how many calls to next can we make\n",
    "before we reach an integer of $2^{63}$ or larger?"
   ]
  },
  {
   "cell_type": "code",
   "execution_count": 37,
   "metadata": {
    "ExecuteTime": {
     "end_time": "2019-06-28T02:38:53.729432Z",
     "start_time": "2019-06-28T02:38:53.717500Z"
    }
   },
   "outputs": [
    {
     "data": {
      "text/plain": [
       "72057594037927936"
      ]
     },
     "execution_count": 37,
     "metadata": {},
     "output_type": "execute_result"
    }
   ],
   "source": []
  },
  {
   "cell_type": "markdown",
   "metadata": {},
   "source": [
    "#### Creativity"
   ]
  },
  {
   "cell_type": "markdown",
   "metadata": {},
   "source": [
    "##### C-2.25\n",
    "Exercise R-2.12 uses the mul method to support multiplying a Vector\n",
    "by a number, while Exercise R-2.14 uses the mul method to support\n",
    "computing a dot product of two vectors. Give a single implementation of\n",
    "Vector. mul that uses run-time type checking to support both syntaxes\n",
    "u v and u k, where u and v designate vector instances and k represents\n",
    "a number."
   ]
  },
  {
   "cell_type": "code",
   "execution_count": null,
   "metadata": {},
   "outputs": [],
   "source": []
  },
  {
   "cell_type": "markdown",
   "metadata": {},
   "source": [
    "##### C-2.26 \n",
    "The SequenceIterator class of Section 2.3.4 provides what is known as a\n",
    "forward iterator. Implement a class named ReversedSequenceIterator that\n",
    "serves as a reverse iterator for any Python sequence type. The first call to\n",
    "next should return the last element of the sequence, the second call to next\n",
    "should return the second-to-last element, and so forth."
   ]
  },
  {
   "cell_type": "code",
   "execution_count": 38,
   "metadata": {
    "ExecuteTime": {
     "end_time": "2019-06-28T03:05:19.559979Z",
     "start_time": "2019-06-28T03:05:19.554123Z"
    }
   },
   "outputs": [],
   "source": []
  },
  {
   "cell_type": "code",
   "execution_count": 39,
   "metadata": {
    "ExecuteTime": {
     "end_time": "2019-06-28T03:05:55.700009Z",
     "start_time": "2019-06-28T03:05:55.692266Z"
    }
   },
   "outputs": [
    {
     "name": "stdout",
     "output_type": "stream",
     "text": [
      "5\n",
      "3\n",
      "1\n"
     ]
    }
   ],
   "source": [
    "rev_seq = ReversedSequenceIterator([1, 3, 5])\n",
    "for i in rev_seq:\n",
    "    print(i)"
   ]
  },
  {
   "cell_type": "markdown",
   "metadata": {},
   "source": [
    "##### C-2.27 \n",
    "In Section 2.3.5, we note that our version of the Range class has implicit support for iteration, due to its explicit support of both len\n",
    "and getitem . The class also receives implicit support of the Boolean\n",
    "test, “k in r” for Range r. This test is evaluated based on a forward iteration through the range, as evidenced by the relative quickness of the test\n",
    "2 in Range(10000000) versus 9999999 in Range(10000000). Provide a\n",
    "more efficient implementation of the contains method to determine\n",
    "whether a particular value lies within a given range. The running time of\n",
    "your method should be independent of the length of the range."
   ]
  },
  {
   "cell_type": "code",
   "execution_count": 2,
   "metadata": {
    "ExecuteTime": {
     "end_time": "2019-06-28T03:50:37.930619Z",
     "start_time": "2019-06-28T03:50:37.910632Z"
    }
   },
   "outputs": [],
   "source": []
  },
  {
   "cell_type": "code",
   "execution_count": 3,
   "metadata": {
    "ExecuteTime": {
     "end_time": "2019-06-28T03:50:40.309603Z",
     "start_time": "2019-06-28T03:50:40.144819Z"
    }
   },
   "outputs": [
    {
     "data": {
      "image/png": "[encoded data removed]",
      "text/plain": [
       "<Figure size 432x288 with 1 Axes>"
      ]
     },
     "metadata": {
      "needs_background": "light"
     },
     "output_type": "display_data"
    }
   ],
   "source": [
    "r = Range(0, 10000000, 1)\n",
    "r.test_contains()"
   ]
  },
  {
   "cell_type": "code",
   "execution_count": 19,
   "metadata": {
    "ExecuteTime": {
     "end_time": "2019-06-28T03:55:02.922063Z",
     "start_time": "2019-06-28T03:55:01.694016Z"
    }
   },
   "outputs": [
    {
     "data": {
      "text/plain": [
       "'Intel(R) Core(TM) i7-8650U CPU @ 1.90GHz'"
      ]
     },
     "execution_count": 19,
     "metadata": {},
     "output_type": "execute_result"
    }
   ],
   "source": [
    "# Test environment (need to install py-cupinfo library first) \n",
    "import cpuinfo\n",
    "cpuinfo.get_cpu_info()['brand_raw']"
   ]
  },
  {
   "cell_type": "markdown",
   "metadata": {},
   "source": [
    "##### C-2.31\n",
    "Write a Python class that extends the Progression class so that each value\n",
    "in the progression is the absolute value of the difference between the previous two values. You should include a constructor that accepts a pair of\n",
    "numbers as the first two values, using 2 and 200 as the defaults."
   ]
  },
  {
   "cell_type": "code",
   "execution_count": 19,
   "metadata": {
    "ExecuteTime": {
     "end_time": "2019-06-28T04:17:20.659218Z",
     "start_time": "2019-06-28T04:17:20.648277Z"
    }
   },
   "outputs": [],
   "source": []
  },
  {
   "cell_type": "code",
   "execution_count": 21,
   "metadata": {
    "ExecuteTime": {
     "end_time": "2019-06-28T04:17:27.977619Z",
     "start_time": "2019-06-28T04:17:27.972631Z"
    }
   },
   "outputs": [
    {
     "name": "stdout",
     "output_type": "stream",
     "text": [
      "2 200 198 2 196 194 2 192 190 2\n"
     ]
    }
   ],
   "source": [
    "t = AbsdiffPrograssion()\n",
    "t.print_progression(10)"
   ]
  },
  {
   "cell_type": "markdown",
   "metadata": {},
   "source": [
    "##### C-2.32\n",
    "Write a Python class that extends the Progression class so that each value\n",
    "in the progression is the square root of the previous value. (Note that\n",
    "you can no longer represent each value with an integer.) Your construc-\n",
    "tor should accept an optional parameter specifying the start value, using\n",
    "65, 536 as a default."
   ]
  },
  {
   "cell_type": "code",
   "execution_count": 22,
   "metadata": {
    "ExecuteTime": {
     "end_time": "2019-06-28T04:23:14.315061Z",
     "start_time": "2019-06-28T04:23:14.302081Z"
    }
   },
   "outputs": [],
   "source": []
  },
  {
   "cell_type": "code",
   "execution_count": 25,
   "metadata": {
    "ExecuteTime": {
     "end_time": "2019-06-28T04:23:35.170619Z",
     "start_time": "2019-06-28T04:23:35.159627Z"
    }
   },
   "outputs": [
    {
     "name": "stdout",
     "output_type": "stream",
     "text": [
      "65536 256.0 16.0 4.0 2.0 1.4142135623730951 1.189207115002721 1.0905077326652577 1.0442737824274138 1.0218971486541166\n"
     ]
    }
   ],
   "source": [
    "s = SquareRootProgression()\n",
    "s.print_progression(10)"
   ]
  }
 ],
 "metadata": {
  "kernelspec": {
   "display_name": "Python 3",
   "language": "python",
   "name": "python3"
  },
  "language_info": {
   "codemirror_mode": {
    "name": "ipython",
    "version": 3
   },
   "file_extension": ".py",
   "mimetype": "text/x-python",
   "name": "python",
   "nbconvert_exporter": "python",
   "pygments_lexer": "ipython3",
   "version": "3.10.0"
  },
  "toc": {
   "nav_menu": {},
   "number_sections": false,
   "sideBar": true,
   "skip_h1_title": false,
   "title_cell": "Table of Contents",
   "title_sidebar": "Contents",
   "toc_cell": false,
   "toc_position": {
    "height": "calc(100% - 180px)",
    "left": "10px",
    "top": "150px",
    "width": "273.2px"
   },
   "toc_section_display": true,
   "toc_window_display": true
  }
 },
 "nbformat": 4,
 "nbformat_minor": 2
}
